{
 "cells": [
  {
   "cell_type": "markdown",
   "id": "33c79ce3-7f79-433b-ac6d-1bc90d560a13",
   "metadata": {},
   "source": [
    "### Cleaning the Survey Dataset\n",
    "As a data analyst, it is your responsibility to ensure data is clean, consistent and accurate. In this notebook, I focused on cleaning a survey dataset containing salary information for managers across various career fields, collected between 2021 and 2024. The data cleaning process was carried out using Python libraries such as Pandas, NumPy and FuzzyWuzzy."
   ]
  },
  {
   "cell_type": "code",
   "execution_count": 1,
   "id": "5e16be5f-7c9b-42ec-928d-0161819a836b",
   "metadata": {},
   "outputs": [],
   "source": [
    "#importing the library\n",
    "import pandas as pd\n",
    "import numpy as np\n",
    "import warnings\n",
    "warnings.filterwarnings(\"ignore\")\n",
    "from fuzzywuzzy import process"
   ]
  },
  {
   "cell_type": "code",
   "execution_count": 2,
   "id": "5ab5baee-a018-4c27-9524-c5cc29f07e37",
   "metadata": {},
   "outputs": [],
   "source": [
    "#importing the dataset\n",
    "df=pd.read_csv(\"Salary Survey.csv\")"
   ]
  },
  {
   "cell_type": "markdown",
   "id": "df4c6549-bd53-43a7-b99d-c7e99952767c",
   "metadata": {},
   "source": [
    "### Data Exploration"
   ]
  },
  {
   "cell_type": "code",
   "execution_count": 3,
   "id": "7af2f3cb-7064-41e9-9000-a8f1999a47d9",
   "metadata": {},
   "outputs": [
    {
     "data": {
      "text/html": [
       "<div>\n",
       "<style scoped>\n",
       "    .dataframe tbody tr th:only-of-type {\n",
       "        vertical-align: middle;\n",
       "    }\n",
       "\n",
       "    .dataframe tbody tr th {\n",
       "        vertical-align: top;\n",
       "    }\n",
       "\n",
       "    .dataframe thead th {\n",
       "        text-align: right;\n",
       "    }\n",
       "</style>\n",
       "<table border=\"1\" class=\"dataframe\">\n",
       "  <thead>\n",
       "    <tr style=\"text-align: right;\">\n",
       "      <th></th>\n",
       "      <th>Timestamp</th>\n",
       "      <th>How old are you?</th>\n",
       "      <th>What industry do you work in?</th>\n",
       "      <th>Job title</th>\n",
       "      <th>If your job title needs additional context, please clarify here:</th>\n",
       "      <th>What is your annual salary? (You'll indicate the currency in a later question. If you are part-time or hourly, please enter an annualized equivalent -- what you would earn if you worked the job 40 hours a week, 52 weeks a year.)</th>\n",
       "      <th>How much additional monetary compensation do you get, if any (for example, bonuses or overtime in an average year)? Please only include monetary compensation here, not the value of benefits.</th>\n",
       "      <th>Please indicate the currency</th>\n",
       "      <th>If \"Other,\" please indicate the currency here:</th>\n",
       "      <th>If your income needs additional context, please provide it here:</th>\n",
       "      <th>What country do you work in?</th>\n",
       "      <th>If you're in the U.S., what state do you work in?</th>\n",
       "      <th>What city do you work in?</th>\n",
       "      <th>How many years of professional work experience do you have overall?</th>\n",
       "      <th>How many years of professional work experience do you have in your field?</th>\n",
       "      <th>What is your highest level of education completed?</th>\n",
       "      <th>What is your gender?</th>\n",
       "      <th>What is your race? (Choose all that apply.)</th>\n",
       "    </tr>\n",
       "  </thead>\n",
       "  <tbody>\n",
       "    <tr>\n",
       "      <th>0</th>\n",
       "      <td>4/27/2021 11:02:10</td>\n",
       "      <td>25-34</td>\n",
       "      <td>Education (Higher Education)</td>\n",
       "      <td>Research and Instruction Librarian</td>\n",
       "      <td>NaN</td>\n",
       "      <td>55,000</td>\n",
       "      <td>0.0</td>\n",
       "      <td>USD</td>\n",
       "      <td>NaN</td>\n",
       "      <td>NaN</td>\n",
       "      <td>United States</td>\n",
       "      <td>Massachusetts</td>\n",
       "      <td>Boston</td>\n",
       "      <td>5-7 years</td>\n",
       "      <td>5-7 years</td>\n",
       "      <td>Master's degree</td>\n",
       "      <td>Woman</td>\n",
       "      <td>White</td>\n",
       "    </tr>\n",
       "    <tr>\n",
       "      <th>1</th>\n",
       "      <td>4/27/2021 11:02:22</td>\n",
       "      <td>25-34</td>\n",
       "      <td>Computing or Tech</td>\n",
       "      <td>Change &amp; Internal Communications Manager</td>\n",
       "      <td>NaN</td>\n",
       "      <td>54,600</td>\n",
       "      <td>4000.0</td>\n",
       "      <td>GBP</td>\n",
       "      <td>NaN</td>\n",
       "      <td>NaN</td>\n",
       "      <td>United Kingdom</td>\n",
       "      <td>NaN</td>\n",
       "      <td>Cambridge</td>\n",
       "      <td>8 - 10 years</td>\n",
       "      <td>5-7 years</td>\n",
       "      <td>College degree</td>\n",
       "      <td>Non-binary</td>\n",
       "      <td>White</td>\n",
       "    </tr>\n",
       "    <tr>\n",
       "      <th>2</th>\n",
       "      <td>4/27/2021 11:02:38</td>\n",
       "      <td>25-34</td>\n",
       "      <td>Accounting, Banking &amp; Finance</td>\n",
       "      <td>Marketing Specialist</td>\n",
       "      <td>NaN</td>\n",
       "      <td>34,000</td>\n",
       "      <td>NaN</td>\n",
       "      <td>USD</td>\n",
       "      <td>NaN</td>\n",
       "      <td>NaN</td>\n",
       "      <td>US</td>\n",
       "      <td>Tennessee</td>\n",
       "      <td>Chattanooga</td>\n",
       "      <td>2 - 4 years</td>\n",
       "      <td>2 - 4 years</td>\n",
       "      <td>College degree</td>\n",
       "      <td>Woman</td>\n",
       "      <td>White</td>\n",
       "    </tr>\n",
       "    <tr>\n",
       "      <th>3</th>\n",
       "      <td>4/27/2021 11:02:41</td>\n",
       "      <td>25-34</td>\n",
       "      <td>Nonprofits</td>\n",
       "      <td>Program Manager</td>\n",
       "      <td>NaN</td>\n",
       "      <td>62,000</td>\n",
       "      <td>3000.0</td>\n",
       "      <td>USD</td>\n",
       "      <td>NaN</td>\n",
       "      <td>NaN</td>\n",
       "      <td>USA</td>\n",
       "      <td>Wisconsin</td>\n",
       "      <td>Milwaukee</td>\n",
       "      <td>8 - 10 years</td>\n",
       "      <td>5-7 years</td>\n",
       "      <td>College degree</td>\n",
       "      <td>Woman</td>\n",
       "      <td>White</td>\n",
       "    </tr>\n",
       "    <tr>\n",
       "      <th>4</th>\n",
       "      <td>4/27/2021 11:02:42</td>\n",
       "      <td>25-34</td>\n",
       "      <td>Accounting, Banking &amp; Finance</td>\n",
       "      <td>Accounting Manager</td>\n",
       "      <td>NaN</td>\n",
       "      <td>60,000</td>\n",
       "      <td>7000.0</td>\n",
       "      <td>USD</td>\n",
       "      <td>NaN</td>\n",
       "      <td>NaN</td>\n",
       "      <td>US</td>\n",
       "      <td>South Carolina</td>\n",
       "      <td>Greenville</td>\n",
       "      <td>8 - 10 years</td>\n",
       "      <td>5-7 years</td>\n",
       "      <td>College degree</td>\n",
       "      <td>Woman</td>\n",
       "      <td>White</td>\n",
       "    </tr>\n",
       "  </tbody>\n",
       "</table>\n",
       "</div>"
      ],
      "text/plain": [
       "            Timestamp How old are you?  What industry do you work in?  \\\n",
       "0  4/27/2021 11:02:10            25-34   Education (Higher Education)   \n",
       "1  4/27/2021 11:02:22            25-34              Computing or Tech   \n",
       "2  4/27/2021 11:02:38            25-34  Accounting, Banking & Finance   \n",
       "3  4/27/2021 11:02:41            25-34                     Nonprofits   \n",
       "4  4/27/2021 11:02:42            25-34  Accounting, Banking & Finance   \n",
       "\n",
       "                                  Job title  \\\n",
       "0        Research and Instruction Librarian   \n",
       "1  Change & Internal Communications Manager   \n",
       "2                      Marketing Specialist   \n",
       "3                           Program Manager   \n",
       "4                        Accounting Manager   \n",
       "\n",
       "  If your job title needs additional context, please clarify here:  \\\n",
       "0                                                NaN                 \n",
       "1                                                NaN                 \n",
       "2                                                NaN                 \n",
       "3                                                NaN                 \n",
       "4                                                NaN                 \n",
       "\n",
       "  What is your annual salary? (You'll indicate the currency in a later question. If you are part-time or hourly, please enter an annualized equivalent -- what you would earn if you worked the job 40 hours a week, 52 weeks a year.)  \\\n",
       "0                                             55,000                                                                                                                                                                                     \n",
       "1                                             54,600                                                                                                                                                                                     \n",
       "2                                             34,000                                                                                                                                                                                     \n",
       "3                                             62,000                                                                                                                                                                                     \n",
       "4                                             60,000                                                                                                                                                                                     \n",
       "\n",
       "   How much additional monetary compensation do you get, if any (for example, bonuses or overtime in an average year)? Please only include monetary compensation here, not the value of benefits.  \\\n",
       "0                                                0.0                                                                                                                                                \n",
       "1                                             4000.0                                                                                                                                                \n",
       "2                                                NaN                                                                                                                                                \n",
       "3                                             3000.0                                                                                                                                                \n",
       "4                                             7000.0                                                                                                                                                \n",
       "\n",
       "  Please indicate the currency  \\\n",
       "0                          USD   \n",
       "1                          GBP   \n",
       "2                          USD   \n",
       "3                          USD   \n",
       "4                          USD   \n",
       "\n",
       "  If \"Other,\" please indicate the currency here:   \\\n",
       "0                                             NaN   \n",
       "1                                             NaN   \n",
       "2                                             NaN   \n",
       "3                                             NaN   \n",
       "4                                             NaN   \n",
       "\n",
       "  If your income needs additional context, please provide it here:  \\\n",
       "0                                                NaN                 \n",
       "1                                                NaN                 \n",
       "2                                                NaN                 \n",
       "3                                                NaN                 \n",
       "4                                                NaN                 \n",
       "\n",
       "  What country do you work in?  \\\n",
       "0                United States   \n",
       "1               United Kingdom   \n",
       "2                           US   \n",
       "3                          USA   \n",
       "4                           US   \n",
       "\n",
       "  If you're in the U.S., what state do you work in? What city do you work in?  \\\n",
       "0                                     Massachusetts                    Boston   \n",
       "1                                               NaN                 Cambridge   \n",
       "2                                         Tennessee               Chattanooga   \n",
       "3                                         Wisconsin                 Milwaukee   \n",
       "4                                    South Carolina                Greenville   \n",
       "\n",
       "  How many years of professional work experience do you have overall?  \\\n",
       "0                                          5-7 years                    \n",
       "1                                       8 - 10 years                    \n",
       "2                                        2 - 4 years                    \n",
       "3                                       8 - 10 years                    \n",
       "4                                       8 - 10 years                    \n",
       "\n",
       "  How many years of professional work experience do you have in your field?  \\\n",
       "0                                          5-7 years                          \n",
       "1                                          5-7 years                          \n",
       "2                                        2 - 4 years                          \n",
       "3                                          5-7 years                          \n",
       "4                                          5-7 years                          \n",
       "\n",
       "  What is your highest level of education completed? What is your gender?  \\\n",
       "0                                    Master's degree                Woman   \n",
       "1                                     College degree           Non-binary   \n",
       "2                                     College degree                Woman   \n",
       "3                                     College degree                Woman   \n",
       "4                                     College degree                Woman   \n",
       "\n",
       "  What is your race? (Choose all that apply.)  \n",
       "0                                       White  \n",
       "1                                       White  \n",
       "2                                       White  \n",
       "3                                       White  \n",
       "4                                       White  "
      ]
     },
     "metadata": {},
     "output_type": "display_data"
    },
    {
     "name": "stdout",
     "output_type": "stream",
     "text": [
      "\n",
      "Shape :(5236, 18)\n",
      "\n",
      "Data Types: Timestamp                                                                                                                                                                                                                                object\n",
      "How old are you?                                                                                                                                                                                                                         object\n",
      "What industry do you work in?                                                                                                                                                                                                            object\n",
      "Job title                                                                                                                                                                                                                                object\n",
      "If your job title needs additional context, please clarify here:                                                                                                                                                                         object\n",
      "What is your annual salary? (You'll indicate the currency in a later question. If you are part-time or hourly, please enter an annualized equivalent -- what you would earn if you worked the job 40 hours a week, 52 weeks a year.)     object\n",
      "How much additional monetary compensation do you get, if any (for example, bonuses or overtime in an average year)? Please only include monetary compensation here, not the value of benefits.                                          float64\n",
      "Please indicate the currency                                                                                                                                                                                                             object\n",
      "If \"Other,\" please indicate the currency here:                                                                                                                                                                                           object\n",
      "If your income needs additional context, please provide it here:                                                                                                                                                                         object\n",
      "What country do you work in?                                                                                                                                                                                                             object\n",
      "If you're in the U.S., what state do you work in?                                                                                                                                                                                        object\n",
      "What city do you work in?                                                                                                                                                                                                                object\n",
      "How many years of professional work experience do you have overall?                                                                                                                                                                      object\n",
      "How many years of professional work experience do you have in your field?                                                                                                                                                                object\n",
      "What is your highest level of education completed?                                                                                                                                                                                       object\n",
      "What is your gender?                                                                                                                                                                                                                     object\n",
      "What is your race? (Choose all that apply.)                                                                                                                                                                                              object\n",
      "dtype: object\n"
     ]
    }
   ],
   "source": [
    "#lets get to know our data\n",
    "display(df.head())\n",
    "print(f\"\\nShape :{df.shape}\")\n",
    "print(f\"\\nData Types: {df.dtypes}\")"
   ]
  },
  {
   "cell_type": "markdown",
   "id": "caa8fc0d-7d15-45b9-8d65-2a96e40af825",
   "metadata": {},
   "source": [
    "### Data Preprocessing\n",
    "The first step involves renaming the columns to enhance visibility and improve readability."
   ]
  },
  {
   "cell_type": "code",
   "execution_count": 4,
   "id": "3e901fbb-b9b8-4ad3-aefb-a080a8706e0f",
   "metadata": {},
   "outputs": [
    {
     "data": {
      "text/html": [
       "<div>\n",
       "<style scoped>\n",
       "    .dataframe tbody tr th:only-of-type {\n",
       "        vertical-align: middle;\n",
       "    }\n",
       "\n",
       "    .dataframe tbody tr th {\n",
       "        vertical-align: top;\n",
       "    }\n",
       "\n",
       "    .dataframe thead th {\n",
       "        text-align: right;\n",
       "    }\n",
       "</style>\n",
       "<table border=\"1\" class=\"dataframe\">\n",
       "  <thead>\n",
       "    <tr style=\"text-align: right;\">\n",
       "      <th></th>\n",
       "      <th>Timestamp</th>\n",
       "      <th>Age</th>\n",
       "      <th>Job Industry</th>\n",
       "      <th>Job Title</th>\n",
       "      <th>Job Specifics</th>\n",
       "      <th>Annual Salary</th>\n",
       "      <th>Monetary Compensation</th>\n",
       "      <th>Currency</th>\n",
       "      <th>Other Currency</th>\n",
       "      <th>Income Specifics</th>\n",
       "      <th>Occupation Country</th>\n",
       "      <th>US States</th>\n",
       "      <th>Occupation City</th>\n",
       "      <th>Overall Experience</th>\n",
       "      <th>Experience</th>\n",
       "      <th>Education Level</th>\n",
       "      <th>Gender</th>\n",
       "      <th>Race</th>\n",
       "    </tr>\n",
       "  </thead>\n",
       "  <tbody>\n",
       "    <tr>\n",
       "      <th>0</th>\n",
       "      <td>4/27/2021 11:02:10</td>\n",
       "      <td>25-34</td>\n",
       "      <td>Education (Higher Education)</td>\n",
       "      <td>Research and Instruction Librarian</td>\n",
       "      <td>NaN</td>\n",
       "      <td>55,000</td>\n",
       "      <td>0.0</td>\n",
       "      <td>USD</td>\n",
       "      <td>NaN</td>\n",
       "      <td>NaN</td>\n",
       "      <td>United States</td>\n",
       "      <td>Massachusetts</td>\n",
       "      <td>Boston</td>\n",
       "      <td>5-7 years</td>\n",
       "      <td>5-7 years</td>\n",
       "      <td>Master's degree</td>\n",
       "      <td>Woman</td>\n",
       "      <td>White</td>\n",
       "    </tr>\n",
       "    <tr>\n",
       "      <th>1</th>\n",
       "      <td>4/27/2021 11:02:22</td>\n",
       "      <td>25-34</td>\n",
       "      <td>Computing or Tech</td>\n",
       "      <td>Change &amp; Internal Communications Manager</td>\n",
       "      <td>NaN</td>\n",
       "      <td>54,600</td>\n",
       "      <td>4000.0</td>\n",
       "      <td>GBP</td>\n",
       "      <td>NaN</td>\n",
       "      <td>NaN</td>\n",
       "      <td>United Kingdom</td>\n",
       "      <td>NaN</td>\n",
       "      <td>Cambridge</td>\n",
       "      <td>8 - 10 years</td>\n",
       "      <td>5-7 years</td>\n",
       "      <td>College degree</td>\n",
       "      <td>Non-binary</td>\n",
       "      <td>White</td>\n",
       "    </tr>\n",
       "    <tr>\n",
       "      <th>2</th>\n",
       "      <td>4/27/2021 11:02:38</td>\n",
       "      <td>25-34</td>\n",
       "      <td>Accounting, Banking &amp; Finance</td>\n",
       "      <td>Marketing Specialist</td>\n",
       "      <td>NaN</td>\n",
       "      <td>34,000</td>\n",
       "      <td>NaN</td>\n",
       "      <td>USD</td>\n",
       "      <td>NaN</td>\n",
       "      <td>NaN</td>\n",
       "      <td>US</td>\n",
       "      <td>Tennessee</td>\n",
       "      <td>Chattanooga</td>\n",
       "      <td>2 - 4 years</td>\n",
       "      <td>2 - 4 years</td>\n",
       "      <td>College degree</td>\n",
       "      <td>Woman</td>\n",
       "      <td>White</td>\n",
       "    </tr>\n",
       "    <tr>\n",
       "      <th>3</th>\n",
       "      <td>4/27/2021 11:02:41</td>\n",
       "      <td>25-34</td>\n",
       "      <td>Nonprofits</td>\n",
       "      <td>Program Manager</td>\n",
       "      <td>NaN</td>\n",
       "      <td>62,000</td>\n",
       "      <td>3000.0</td>\n",
       "      <td>USD</td>\n",
       "      <td>NaN</td>\n",
       "      <td>NaN</td>\n",
       "      <td>USA</td>\n",
       "      <td>Wisconsin</td>\n",
       "      <td>Milwaukee</td>\n",
       "      <td>8 - 10 years</td>\n",
       "      <td>5-7 years</td>\n",
       "      <td>College degree</td>\n",
       "      <td>Woman</td>\n",
       "      <td>White</td>\n",
       "    </tr>\n",
       "    <tr>\n",
       "      <th>4</th>\n",
       "      <td>4/27/2021 11:02:42</td>\n",
       "      <td>25-34</td>\n",
       "      <td>Accounting, Banking &amp; Finance</td>\n",
       "      <td>Accounting Manager</td>\n",
       "      <td>NaN</td>\n",
       "      <td>60,000</td>\n",
       "      <td>7000.0</td>\n",
       "      <td>USD</td>\n",
       "      <td>NaN</td>\n",
       "      <td>NaN</td>\n",
       "      <td>US</td>\n",
       "      <td>South Carolina</td>\n",
       "      <td>Greenville</td>\n",
       "      <td>8 - 10 years</td>\n",
       "      <td>5-7 years</td>\n",
       "      <td>College degree</td>\n",
       "      <td>Woman</td>\n",
       "      <td>White</td>\n",
       "    </tr>\n",
       "  </tbody>\n",
       "</table>\n",
       "</div>"
      ],
      "text/plain": [
       "            Timestamp    Age                   Job Industry  \\\n",
       "0  4/27/2021 11:02:10  25-34   Education (Higher Education)   \n",
       "1  4/27/2021 11:02:22  25-34              Computing or Tech   \n",
       "2  4/27/2021 11:02:38  25-34  Accounting, Banking & Finance   \n",
       "3  4/27/2021 11:02:41  25-34                     Nonprofits   \n",
       "4  4/27/2021 11:02:42  25-34  Accounting, Banking & Finance   \n",
       "\n",
       "                                  Job Title Job Specifics Annual Salary  \\\n",
       "0        Research and Instruction Librarian           NaN        55,000   \n",
       "1  Change & Internal Communications Manager           NaN        54,600   \n",
       "2                      Marketing Specialist           NaN        34,000   \n",
       "3                           Program Manager           NaN        62,000   \n",
       "4                        Accounting Manager           NaN        60,000   \n",
       "\n",
       "   Monetary Compensation Currency Other Currency Income Specifics  \\\n",
       "0                    0.0      USD            NaN              NaN   \n",
       "1                 4000.0      GBP            NaN              NaN   \n",
       "2                    NaN      USD            NaN              NaN   \n",
       "3                 3000.0      USD            NaN              NaN   \n",
       "4                 7000.0      USD            NaN              NaN   \n",
       "\n",
       "  Occupation Country       US States Occupation City Overall Experience  \\\n",
       "0      United States   Massachusetts          Boston          5-7 years   \n",
       "1     United Kingdom             NaN       Cambridge       8 - 10 years   \n",
       "2                 US       Tennessee     Chattanooga        2 - 4 years   \n",
       "3                USA       Wisconsin       Milwaukee       8 - 10 years   \n",
       "4                 US  South Carolina      Greenville       8 - 10 years   \n",
       "\n",
       "    Experience  Education Level      Gender   Race  \n",
       "0    5-7 years  Master's degree       Woman  White  \n",
       "1    5-7 years   College degree  Non-binary  White  \n",
       "2  2 - 4 years   College degree       Woman  White  \n",
       "3    5-7 years   College degree       Woman  White  \n",
       "4    5-7 years   College degree       Woman  White  "
      ]
     },
     "metadata": {},
     "output_type": "display_data"
    }
   ],
   "source": [
    "#renaming the columns\n",
    "df.columns=[\n",
    "    \"Timestamp\",\n",
    "    \"Age\",\n",
    "    \"Job Industry\",\n",
    "    \"Job Title\",\n",
    "    \"Job Specifics\",\n",
    "    \"Annual Salary\",\n",
    "    \"Monetary Compensation\",\n",
    "    \"Currency\",\n",
    "    \"Other Currency\",\n",
    "    \"Income Specifics\",\n",
    "    \"Occupation Country\",\n",
    "    \"US States\",\n",
    "    \"Occupation City\",\n",
    "    \"Overall Experience\",\n",
    "    \"Experience\",\n",
    "    \"Education Level\",\n",
    "    \"Gender\",\n",
    "    \"Race\"\n",
    "]\n",
    "#lets display our new dataset\n",
    "display(df.head())"
   ]
  },
  {
   "cell_type": "markdown",
   "id": "c69a1464-6187-4b1b-865c-141019b8e499",
   "metadata": {},
   "source": [
    "* Lets check for missing values"
   ]
  },
  {
   "cell_type": "code",
   "execution_count": 5,
   "id": "90412520-7d9f-4631-a957-3163fa456ec9",
   "metadata": {},
   "outputs": [
    {
     "data": {
      "text/plain": [
       "Timestamp                   0\n",
       "Age                         0\n",
       "Job Industry               10\n",
       "Job Title                   0\n",
       "Job Specifics            3695\n",
       "Annual Salary               0\n",
       "Monetary Compensation    1339\n",
       "Currency                    0\n",
       "Other Currency           5210\n",
       "Income Specifics         4553\n",
       "Occupation Country          0\n",
       "US States                 792\n",
       "Occupation City            17\n",
       "Overall Experience          1\n",
       "Experience                  1\n",
       "Education Level            34\n",
       "Gender                     25\n",
       "Race                       20\n",
       "dtype: int64"
      ]
     },
     "execution_count": 5,
     "metadata": {},
     "output_type": "execute_result"
    }
   ],
   "source": [
    "#checking for missing values\n",
    "df.isna().sum()"
   ]
  },
  {
   "cell_type": "markdown",
   "id": "470020af-5712-4b37-9715-edcbe68f5bc5",
   "metadata": {},
   "source": [
    "* After examining the missing values, I identified some columns that need to be dropped entirely, while certain rows in other columns will also need to be removed"
   ]
  },
  {
   "cell_type": "code",
   "execution_count": 6,
   "id": "99188210-7729-41bc-82cb-064baac2ec58",
   "metadata": {},
   "outputs": [],
   "source": [
    "#dropping the columns with missing values\n",
    "df.drop(columns=[\"Job Specifics\",\"Other Currency\",\"Income Specifics\",\"US States\"],inplace=True)\n",
    "#dropping the missing values\n",
    "df.dropna(inplace=True)"
   ]
  },
  {
   "cell_type": "markdown",
   "id": "ad0659cf-1e6c-4971-96f7-0425fba4253b",
   "metadata": {},
   "source": [
    "* I will extract the Year column, representing when the survey was conducted, from the Timestamp column and then drop the Timestamp column as it will no longer be needed. Before doing so, I will first change the data type of the Timestamp column."
   ]
  },
  {
   "cell_type": "code",
   "execution_count": 7,
   "id": "33c2acf4-c1eb-4faf-abd9-21b1c3bf9288",
   "metadata": {},
   "outputs": [],
   "source": [
    "#lets change the data type\n",
    "df[\"Timestamp\"]=pd.to_datetime(df[\"Timestamp\"])\n",
    "\n",
    "#getting the Year column\n",
    "df[\"Record Year\"]=df[\"Timestamp\"].dt.year\n",
    "\n",
    "#dropping the Timestamp column\n",
    "df.drop(columns=\"Timestamp\",inplace=True)"
   ]
  },
  {
   "cell_type": "markdown",
   "id": "7d5cea88-5c42-448f-9ca7-7c9897a0e3f1",
   "metadata": {},
   "source": [
    "* We'll create a new column, Total Annual Salary, by summing the values in the Annual Salary and Monetary Compensation columns. However, before this, we'll clean these columns by correcting errors and converting their data types appropriately."
   ]
  },
  {
   "cell_type": "code",
   "execution_count": 8,
   "id": "cacb6b76-ed17-44c4-9f37-9705014af054",
   "metadata": {},
   "outputs": [],
   "source": [
    "#lets clean the Annual Salary column\n",
    "df[\"Annual Salary\"]=df[\"Annual Salary\"].str.replace(r\"[^\\d]\",\"\",regex=True)\n",
    "df[\"Annual Salary\"]=df[\"Annual Salary\"].astype(int)\n",
    "#changing the data type of AnnuaL Salary\n",
    "df[\"Annual Salary\"]=df[\"Annual Salary\"].astype(int)\n",
    "#changing the data type of Monetary Compensation\n",
    "df[\"Monetary Compensation\"]=df[\"Monetary Compensation\"].astype(int)\n",
    "#getting the Annual Salary column\n",
    "df[\"Total Annual Salary\"]=df[\"Annual Salary\"] + df[\"Monetary Compensation\"]"
   ]
  },
  {
   "cell_type": "markdown",
   "id": "48a13f9a-da95-4c7a-81a2-514761a33d49",
   "metadata": {},
   "source": [
    "* Next step is adding the currency signs to the Annual Salary, Total Annual Salary and Monetary Compensation. After that I will drop the Currency column."
   ]
  },
  {
   "cell_type": "code",
   "execution_count": 9,
   "id": "7b65c497-9e51-4a38-a707-c6563631588c",
   "metadata": {},
   "outputs": [
    {
     "data": {
      "text/plain": [
       "array(['USD', 'GBP', 'CAD', 'EUR', 'AUD/NZD', 'Other', 'CHF', 'ZAR',\n",
       "       'HKD', 'SEK'], dtype=object)"
      ]
     },
     "execution_count": 9,
     "metadata": {},
     "output_type": "execute_result"
    }
   ],
   "source": [
    "df[\"Currency\"].unique()"
   ]
  },
  {
   "cell_type": "code",
   "execution_count": 10,
   "id": "80364eee-655a-42f2-846f-9842bfb47fed",
   "metadata": {},
   "outputs": [],
   "source": [
    "df[\"Annual Salary\"]=df[\"Currency\"] + \" \" + df[\"Annual Salary\"].astype(str)\n",
    "df[\"Monetary Compensation\"]=df[\"Currency\"] + \" \" + df[\"Monetary Compensation\"].astype(str)\n",
    "df[\"Total Annual Salary\"]=df[\"Currency\"] + \" \" + df[\"Total Annual Salary\"].astype(str)\n",
    "#dropping the currency column\n",
    "df.drop(columns=\"Currency\",inplace=True)"
   ]
  },
  {
   "cell_type": "markdown",
   "id": "33cbfde0-4ccc-4193-8d66-c19331f2b700",
   "metadata": {},
   "source": [
    "* I will create categories for the Age column to enhance interpretability."
   ]
  },
  {
   "cell_type": "code",
   "execution_count": 11,
   "id": "4c1ae63d-dc03-44ee-9a4b-ee3bd1fa2c01",
   "metadata": {},
   "outputs": [
    {
     "data": {
      "text/plain": [
       "array(['25-34', '45-54', '35-44', '18-24', '65 or over', '55-64',\n",
       "       'under 18'], dtype=object)"
      ]
     },
     "execution_count": 11,
     "metadata": {},
     "output_type": "execute_result"
    }
   ],
   "source": [
    "df[\"Age\"].unique()"
   ]
  },
  {
   "cell_type": "code",
   "execution_count": 12,
   "id": "47902b0c-c8fc-4e94-aefc-a35ba3e3d9af",
   "metadata": {},
   "outputs": [],
   "source": [
    "#lets create the function that will clean\n",
    "def age_group(age):\n",
    "    if age ==\"18-24\":\n",
    "        return \"Young\"\n",
    "    elif age ==\"25-34\":\n",
    "        return \"Mid Life\"\n",
    "    elif age ==\"35-44\":\n",
    "        return \"Junior\"\n",
    "    elif age ==\"45-54\":\n",
    "        return \"Experienced\"\n",
    "    elif age ==\"55-64\":\n",
    "        return \"Senior\"\n",
    "    else:\n",
    "        return \"Retired\"\n",
    "df[\"Age Group\"]=df[\"Age\"].apply(age_group)\n",
    "\n",
    "#lets drop the Age column since we no longer need it\n",
    "df.drop(columns=\"Age\",inplace=True)"
   ]
  },
  {
   "cell_type": "markdown",
   "id": "1c71bbd5-ad47-46b1-8a8e-12fae34823fc",
   "metadata": {},
   "source": [
    "* I will create categories for the Overall Experience column to enhance interpretability."
   ]
  },
  {
   "cell_type": "code",
   "execution_count": 13,
   "id": "c457524f-a8b4-4bd9-991f-7ffc52b09831",
   "metadata": {},
   "outputs": [
    {
     "data": {
      "text/plain": [
       "array(['5-7 years', '8 - 10 years', '2 - 4 years', '21 - 30 years',\n",
       "       '11 - 20 years', '41 years or more', '31 - 40 years',\n",
       "       '1 year or less'], dtype=object)"
      ]
     },
     "execution_count": 13,
     "metadata": {},
     "output_type": "execute_result"
    }
   ],
   "source": [
    "df[\"Overall Experience\"].unique()"
   ]
  },
  {
   "cell_type": "code",
   "execution_count": 14,
   "id": "6325c23a-20d8-4af0-97a6-f26d76defa5e",
   "metadata": {},
   "outputs": [],
   "source": [
    "#lets create a function to clean the Experience column\n",
    "def experience(year):\n",
    "    if year ==\"1 year or less\":\n",
    "        return \"Entry Level\"\n",
    "    elif year ==\"2 - 4 years\":\n",
    "        return \"Junior Level\"\n",
    "    elif year ==\"5 - 7 years\":\n",
    "        return \"Mid Level\"\n",
    "    elif year == \"8 - 10 years\":\n",
    "        return \"Experienced Level\"\n",
    "    elif year == \"11 - 20 years\":\n",
    "        return \"Senior Level\"\n",
    "    elif year == \"21 - 30 years\":\n",
    "        return \"Veteran Level\"\n",
    "    elif year == \"31 - 40 years\":\n",
    "        return \"Expert Level\"\n",
    "    else:\n",
    "        return \"Legendary Level\"\n",
    "df[\"Experience Level\"]=df[\"Overall Experience\"].apply(experience)\n",
    "\n",
    "#lets drop the Experience and Overall Experience columns\n",
    "df.drop(columns=[\"Experience\",\"Overall Experience\"],inplace=True)"
   ]
  },
  {
   "cell_type": "markdown",
   "id": "6767cdbf-68a6-4f14-a50d-cfb9ce0e22ec",
   "metadata": {},
   "source": [
    "* The Race column seems to have some inconsistencies, so I will have to clean it."
   ]
  },
  {
   "cell_type": "code",
   "execution_count": 15,
   "id": "b592a71b-ae61-4bcb-b897-c586c24f0e98",
   "metadata": {},
   "outputs": [
    {
     "data": {
      "text/plain": [
       "array(['White', 'Hispanic, Latino, or Spanish origin, White',\n",
       "       'Asian or Asian American, White', 'Asian or Asian American',\n",
       "       'Another option not listed here or prefer not to answer',\n",
       "       'Middle Eastern or Northern African',\n",
       "       'Hispanic, Latino, or Spanish origin', 'Black or African American',\n",
       "       'Black or African American, Hispanic, Latino, or Spanish origin, White',\n",
       "       'Native American or Alaska Native, White',\n",
       "       'Hispanic, Latino, or Spanish origin, Another option not listed here or prefer not to answer',\n",
       "       'White, Another option not listed here or prefer not to answer',\n",
       "       'Black or African American, Native American or Alaska Native, White',\n",
       "       'Asian or Asian American, Another option not listed here or prefer not to answer',\n",
       "       'Middle Eastern or Northern African, White',\n",
       "       'Black or African American, White',\n",
       "       'Asian or Asian American, Black or African American, White',\n",
       "       'Black or African American, Hispanic, Latino, or Spanish origin',\n",
       "       'Native American or Alaska Native',\n",
       "       'Asian or Asian American, Hispanic, Latino, or Spanish origin, White',\n",
       "       'Native American or Alaska Native, White, Another option not listed here or prefer not to answer',\n",
       "       'Hispanic, Latino, or Spanish origin, Middle Eastern or Northern African, White'],\n",
       "      dtype=object)"
      ]
     },
     "execution_count": 15,
     "metadata": {},
     "output_type": "execute_result"
    }
   ],
   "source": [
    "df[\"Race\"].unique()"
   ]
  },
  {
   "cell_type": "code",
   "execution_count": 16,
   "id": "9987de3e-b7e8-4199-bf8d-d2d8aa8f24ed",
   "metadata": {},
   "outputs": [],
   "source": [
    "#lets create the function to perform the cleaning\n",
    "def clean_race(value):\n",
    "    if \"White\" in value and \",\" not in value:\n",
    "        return \"White\"\n",
    "    elif \"Black or African American\" in value and \",\" not in value:\n",
    "        return \"Black or African American\"\n",
    "    elif \"Asian or Asian American\" in value and \",\" not in value:\n",
    "        return \"Asian or Asian American\"\n",
    "    elif \"Hispanic, Latino, or Spanish origin\" in value and \",\" not in value:\n",
    "        return \"Hispanic, Latino, or Spanish origin\"\n",
    "    elif \"Native American or Alaska Native\" in value and \",\" not in value:\n",
    "        return \"Native American or Alaska Native\"\n",
    "    elif \"Middle Eastern or Northern African\" in value and \",\" not in value:\n",
    "        return \"Middle Eastern or Northern African\"\n",
    "    elif \"Another option not listed here or prefer not to answer\" in value:\n",
    "        return \"Other or Prefer not to answer\"\n",
    "    else:\n",
    "        return \"Multiracial\"\n",
    "\n",
    "df[\"Race\"] = df[\"Race\"].apply(clean_race)"
   ]
  },
  {
   "cell_type": "markdown",
   "id": "812a7ddf-2d0c-4f28-abae-6a745e1718af",
   "metadata": {},
   "source": [
    "* Also the Gender column seems to have some inconsistencies, so I will have to clean it."
   ]
  },
  {
   "cell_type": "code",
   "execution_count": 17,
   "id": "1b907b7c-06a7-4967-80a0-e790d0e67236",
   "metadata": {},
   "outputs": [
    {
     "data": {
      "text/plain": [
       "array(['Woman', 'Non-binary', 'Man', 'Other or prefer not to answer'],\n",
       "      dtype=object)"
      ]
     },
     "execution_count": 17,
     "metadata": {},
     "output_type": "execute_result"
    }
   ],
   "source": [
    "df[\"Gender\"].unique()"
   ]
  },
  {
   "cell_type": "code",
   "execution_count": 18,
   "id": "1770ea26-e410-4d25-8575-bdc308875c4b",
   "metadata": {},
   "outputs": [],
   "source": [
    "#lets create a function that will perform the cleaning\n",
    "def gender(value):\n",
    "    if value ==\"Woman\":\n",
    "        return \"Female\"\n",
    "    elif value ==\"Man\":\n",
    "        return \"Male\"\n",
    "    elif value ==\"Non-binary\":\n",
    "        return \"Non Binary\"\n",
    "    elif value ==\"Other or prefer not to answer\":\n",
    "        return \"Other\"\n",
    "    else:\n",
    "        return \"Prefer not to answer\"\n",
    "        \n",
    "df[\"Gender\"]=df[\"Gender\"].apply(gender)"
   ]
  },
  {
   "cell_type": "markdown",
   "id": "4098b0b9-1d8c-4cc5-b185-3ae9bc6b4013",
   "metadata": {},
   "source": [
    "* The Occupation Country has alot of error that need cleaninng clean."
   ]
  },
  {
   "cell_type": "code",
   "execution_count": 19,
   "id": "e4906eda-75db-4992-8ab3-0a8b55ee4386",
   "metadata": {},
   "outputs": [
    {
     "data": {
      "text/plain": [
       "array(['United States', 'United Kingdom', 'USA', 'US', 'United Kingdom ',\n",
       "       'UK', 'Canada', 'United States ', 'The Netherlands', 'Australia ',\n",
       "       'us', 'Usa', 'United States of America', 'France', 'United states',\n",
       "       'USA ', 'Germany', 'U.S.', 'UK ', 'united states', 'Ireland',\n",
       "       'Scotland', 'usa', 'India', 'Australia', 'Uk',\n",
       "       'United States of America ', 'U.S. ', 'Canada ', 'U.S>', 'ISA',\n",
       "       'Argentina', 'US ', 'United State', 'U.S.A', 'England', 'Denmark',\n",
       "       'America', 'Netherlands', 'netherlands', 'Spain', 'England ',\n",
       "       'U.S.A.', 'Switzerland', 'Bermuda', 'Us', 'The United States',\n",
       "       'Malaysia', 'United Stated', 'South Africa ', 'Belgium',\n",
       "       'Northern Ireland', 'u.s.', 'UNITED STATES', 'United states ',\n",
       "       'Hong Kong', 'Kuwait', 'Norway', 'Contracts',\n",
       "       'USA-- Virgin Islands', 'United Statws', 'U.S',\n",
       "       \"We don't get raises, we get quarterly bonuses, but they periodically asses income in the area you work, so I got a raise because a 3rd party assessment showed I was paid too little for the area we were located\",\n",
       "       'Unites States ', 'Usa ', 'U.S.A. ', 'England, UK.', 'Britain ',\n",
       "       'United Sates', 'Austria', 'Brazil', 'Canada, Ottawa, ontario',\n",
       "       'Sweden ', 'United States of American ', 'South Africa', 'FRANCE',\n",
       "       'Uniited States', 'United Kingdom (England)',\n",
       "       'Worldwide (based in US but short term trips aroudn the world)',\n",
       "       'CANADA ', 'canada', 'Canadw', 'Sweden', 'United Sates of America',\n",
       "       'united States', 'ireland',\n",
       "       'United States (I work from home and my clients are all over the US/Canada/PR',\n",
       "       'CANADA', 'Unted States', 'germany', 'United Statesp',\n",
       "       'Great Britain ', 'United Stattes', 'United Statea',\n",
       "       'United Kingdom.', 'Mexico', 'Netherlands ', 'Trinidad and Tobago',\n",
       "       'United kingdom', 'Cayman Islands',\n",
       "       'I am located in Canada but I work for a company in the US',\n",
       "       'United kingdom ', 'Germany ', 'Uniyes States',\n",
       "       'United States of Americas', 'U.A.'], dtype=object)"
      ]
     },
     "execution_count": 19,
     "metadata": {},
     "output_type": "execute_result"
    }
   ],
   "source": [
    "df[\"Occupation Country\"].unique()"
   ]
  },
  {
   "cell_type": "markdown",
   "id": "ae55c18d-1e26-4a54-bdf8-fad6ae1b0cf0",
   "metadata": {},
   "source": [
    "* First I will create a dictionary that maps the incorrect or inconsistent values to the correct ones. This took some time because I had to do it manually.\n",
    "#### Note\n",
    "I would be grateful if someone had a good idea on how I would have cleaned it better."
   ]
  },
  {
   "cell_type": "code",
   "execution_count": 20,
   "id": "8599aa09-1c68-4eba-ba04-fcb09ff8fc73",
   "metadata": {},
   "outputs": [],
   "source": [
    "#lets first remove the leading and trailing white spaces\n",
    "df[\"Occupation Country\"]=df[\"Occupation Country\"].str.strip()"
   ]
  },
  {
   "cell_type": "code",
   "execution_count": 21,
   "id": "cda9210a-2686-4483-b176-6c758e9a5033",
   "metadata": {},
   "outputs": [],
   "source": [
    "country_mapping = {\n",
    "    # United States\n",
    "    \"United States\": \"United States\", \"USA\": \"United States\", \"US\": \"United States\", \"U.S.\": \"United States\",\n",
    "    \"America\": \"United States\", \"United states\": \"United States\", \"United States of America\": \"United States\",\n",
    "    \"U.S.A\": \"United States\", \"United State\": \"United States\", \"U.S.A.\": \"United States\",\n",
    "    \"UNITED STATES\": \"United States\", \"Unted States\": \"United States\", \"United Sates\": \"United States\",\n",
    "    \"United Statws\": \"United States\", \"Unites States\": \"United States\", \"Uniited States\": \"United States\", \"USA-- Virgin Islands\": \"United States\",\n",
    "    \"Usa\": \"United States\",\n",
    "\n",
    "    # United Kingdom\n",
    "    \"United Kingdom\": \"United Kingdom\", \"UK\": \"United Kingdom\", \"England\": \"United Kingdom\",\n",
    "    \"Great Britain\": \"United Kingdom\", \"Britain\": \"United Kingdom\", \"Scotland\": \"United Kingdom\",\n",
    "    \"Northern Ireland\": \"United Kingdom\", \"England, UK.\": \"United Kingdom\", \"United kingdom\": \"United Kingdom\", \"Uk\": \"United Kingdom\",\n",
    "\n",
    "    # Canada\n",
    "    \"Canada\": \"Canada\", \"CANADA\": \"Canada\", \"Canada, Ottawa, ontario\": \"Canada\", \"Canadw\": \"Canada\",\n",
    "    \"canada\": \"Canada\",\n",
    "\n",
    "    # Australia\n",
    "    \"Australia\": \"Australia\", \"Australia \": \"Australia\",\n",
    "\n",
    "    # Netherlands\n",
    "    \"The Netherlands\": \"Netherlands\", \"Netherlands\": \"Netherlands\", \"netherlands\": \"Netherlands\",\n",
    "    \n",
    "    # Other countries\n",
    "    \"Germany\": \"Germany\", \"germany\": \"Germany\", \"Germany \": \"Germany\",\n",
    "    \"France\": \"France\", \"FRANCE\": \"France\",\n",
    "    \"India\": \"India\",\n",
    "    \"Spain\": \"Spain\",\n",
    "    \"South Africa\": \"South Africa\", \"South Africa \": \"South Africa\",\n",
    "    \"ireland\": \"Ireland\"\n",
    "}\n"
   ]
  },
  {
   "cell_type": "code",
   "execution_count": 22,
   "id": "26888a62-06b5-4e88-b6cf-5bab5e8bd7c3",
   "metadata": {},
   "outputs": [],
   "source": [
    "#lets create a list of the unique countries\n",
    "correct_countries = list(set(country_mapping.values()))\n",
    "#lets define our function that will help us match the correct countries\n",
    "def fuzzy_match(country, choices, threshold=80):\n",
    "    match, score = process.extractOne(country, choices)\n",
    "    return match if score >= threshold else country\n",
    "\n",
    "df[\"Occupation Country\"] = df[\"Occupation Country\"].apply(\n",
    "    lambda x: fuzzy_match(x, correct_countries) if x not in correct_countries else x\n",
    ")"
   ]
  },
  {
   "cell_type": "code",
   "execution_count": 23,
   "id": "d76bb841-9cf7-410c-a4a3-7cab37fbf5b6",
   "metadata": {},
   "outputs": [
    {
     "data": {
      "text/plain": [
       "array(['United States', 'United Kingdom', 'USA', 'Australia', 'UK',\n",
       "       'Canada', 'Netherlands', 'Usa', 'France', 'Germany', 'Ireland',\n",
       "       'Scotland', 'usa', 'India', 'Uk', 'ISA', 'Argentina', 'U.S.A',\n",
       "       'England', 'Denmark', 'America', 'Spain', 'U.S.A.', 'Switzerland',\n",
       "       'Bermuda', 'Malaysia', 'South Africa', 'Belgium', 'Hong Kong',\n",
       "       'Kuwait', 'Norway', 'Contracts', 'USA-- Virgin Islands',\n",
       "       \"We don't get raises, we get quarterly bonuses, but they periodically asses income in the area you work, so I got a raise because a 3rd party assessment showed I was paid too little for the area we were located\",\n",
       "       'England, UK.', 'Britain', 'Brazil', 'Sweden',\n",
       "       'Worldwide (based in US but short term trips aroudn the world)',\n",
       "       'Great Britain', 'Mexico', 'Trinidad and Tobago', 'Cayman Islands',\n",
       "       'I am located in Canada but I work for a company in the US',\n",
       "       'U.A.'], dtype=object)"
      ]
     },
     "execution_count": 23,
     "metadata": {},
     "output_type": "execute_result"
    }
   ],
   "source": [
    "df[\"Occupation Country\"].unique()"
   ]
  },
  {
   "cell_type": "markdown",
   "id": "cbfa1b79-4dc7-43b5-95e8-7efa28f58bee",
   "metadata": {},
   "source": [
    "* The Occupation Country column still requires for cleaning. I will create a function to clean."
   ]
  },
  {
   "cell_type": "code",
   "execution_count": 24,
   "id": "9466c5b7-9dec-48cc-885b-c124fa0545d6",
   "metadata": {},
   "outputs": [],
   "source": [
    "#defining the function\n",
    "def cleaned_country(value):\n",
    "    if value in [\"Usa\", \"usa\", \"U.S.A\", \"USA-- Virgin Islands\", \"USA\", \"U.S.A.\", \"America\"]:\n",
    "        return \"United States\"\n",
    "    elif value in [\"UK\", \"Uk\", \"Britain\", \"Great Britain\", \"England\", \"England, UK.\"]:\n",
    "        return \"United Kingdom\"\n",
    "    elif value in [\"Contracts\", \"U.A.\", \"ISA\"]:\n",
    "        return np.nan\n",
    "    else:\n",
    "        return value\n",
    "\n",
    "df[\"Occupation Country\"] = df[\"Occupation Country\"].apply(cleaned_country)"
   ]
  },
  {
   "cell_type": "code",
   "execution_count": 25,
   "id": "4724b5fe-d8a1-4c7d-aa91-278ed815313b",
   "metadata": {},
   "outputs": [
    {
     "data": {
      "text/plain": [
       "array(['United States', 'United Kingdom', 'Australia', 'Canada',\n",
       "       'Netherlands', 'France', 'Germany', 'Ireland', 'Scotland', 'India',\n",
       "       nan, 'Argentina', 'Denmark', 'Spain', 'Switzerland', 'Bermuda',\n",
       "       'Malaysia', 'South Africa', 'Belgium', 'Hong Kong', 'Kuwait',\n",
       "       'Norway',\n",
       "       \"We don't get raises, we get quarterly bonuses, but they periodically asses income in the area you work, so I got a raise because a 3rd party assessment showed I was paid too little for the area we were located\",\n",
       "       'Brazil', 'Sweden',\n",
       "       'Worldwide (based in US but short term trips aroudn the world)',\n",
       "       'Mexico', 'Trinidad and Tobago', 'Cayman Islands',\n",
       "       'I am located in Canada but I work for a company in the US'],\n",
       "      dtype=object)"
      ]
     },
     "execution_count": 25,
     "metadata": {},
     "output_type": "execute_result"
    }
   ],
   "source": [
    "df[\"Occupation Country\"].unique()"
   ]
  },
  {
   "cell_type": "markdown",
   "id": "c8a3c6a0-17b7-452f-a17e-29b70d36fbc4",
   "metadata": {},
   "source": [
    "* Lets further clean the column to remove the inconsistencies"
   ]
  },
  {
   "cell_type": "code",
   "execution_count": 26,
   "id": "7bf0e7d2-879d-4276-b62f-89cbba954a5d",
   "metadata": {},
   "outputs": [],
   "source": [
    "invalid_entries = [\n",
    "     \"We don't get raises, we get quarterly bonuses, but they periodically asses income in the area you work, so I got a raise because a 3rd party assessment showed I was paid too little for the area we were located\",\n",
    "     'Worldwide (based in US but short term trips aroudn the world)',\n",
    "     'I am located in Canada but I work for a company in the US'\n",
    "]\n",
    "df[\"Occupation Country\"] = df[\"Occupation Country\"].replace(invalid_entries, np.nan)"
   ]
  },
  {
   "cell_type": "markdown",
   "id": "a737a752-3503-445e-a526-50e1a241af66",
   "metadata": {},
   "source": [
    "* Recall that some of the countries I had changed them to Nan, thus I will need to drop them."
   ]
  },
  {
   "cell_type": "code",
   "execution_count": 27,
   "id": "d07fc1a6-103a-4edc-bf8f-3de9784fecb9",
   "metadata": {},
   "outputs": [],
   "source": [
    "df.dropna(subset=\"Occupation Country\",inplace=True)"
   ]
  },
  {
   "cell_type": "markdown",
   "id": "7cff06f9-6234-4a3b-bca7-40f45edab467",
   "metadata": {},
   "source": [
    "* Lets check if our dataset is now tidy"
   ]
  },
  {
   "cell_type": "code",
   "execution_count": 28,
   "id": "58d2cdd1-07fe-439f-8f3a-d72cdc903013",
   "metadata": {},
   "outputs": [
    {
     "name": "stdout",
     "output_type": "stream",
     "text": [
      "\n",
      "Dataset Shape: (3839, 13)\n",
      "\n",
      "Missing data: Job Industry             False\n",
      "Job Title                False\n",
      "Annual Salary            False\n",
      "Monetary Compensation    False\n",
      "Occupation Country       False\n",
      "Occupation City          False\n",
      "Education Level          False\n",
      "Gender                   False\n",
      "Race                     False\n",
      "Record Year              False\n",
      "Total Annual Salary      False\n",
      "Age Group                False\n",
      "Experience Level         False\n",
      "dtype: bool\n",
      "\n",
      "Data types: Job Industry             object\n",
      "Job Title                object\n",
      "Annual Salary            object\n",
      "Monetary Compensation    object\n",
      "Occupation Country       object\n",
      "Occupation City          object\n",
      "Education Level          object\n",
      "Gender                   object\n",
      "Race                     object\n",
      "Record Year               int32\n",
      "Total Annual Salary      object\n",
      "Age Group                object\n",
      "Experience Level         object\n",
      "dtype: object\n"
     ]
    }
   ],
   "source": [
    "print(f\"\\nDataset Shape: {df.shape}\")\n",
    "print(f\"\\nMissing data: {df.isna().any()}\")\n",
    "print(f\"\\nData types: {df.dtypes}\")"
   ]
  },
  {
   "cell_type": "markdown",
   "id": "714bd9bb-3631-49fd-81e9-b487b5b77423",
   "metadata": {},
   "source": [
    "* Lets check our new dataset"
   ]
  },
  {
   "cell_type": "code",
   "execution_count": 29,
   "id": "bc52d816-5ccf-4d6e-b177-beda245024c9",
   "metadata": {},
   "outputs": [
    {
     "data": {
      "text/html": [
       "<div>\n",
       "<style scoped>\n",
       "    .dataframe tbody tr th:only-of-type {\n",
       "        vertical-align: middle;\n",
       "    }\n",
       "\n",
       "    .dataframe tbody tr th {\n",
       "        vertical-align: top;\n",
       "    }\n",
       "\n",
       "    .dataframe thead th {\n",
       "        text-align: right;\n",
       "    }\n",
       "</style>\n",
       "<table border=\"1\" class=\"dataframe\">\n",
       "  <thead>\n",
       "    <tr style=\"text-align: right;\">\n",
       "      <th></th>\n",
       "      <th>Job Industry</th>\n",
       "      <th>Job Title</th>\n",
       "      <th>Annual Salary</th>\n",
       "      <th>Monetary Compensation</th>\n",
       "      <th>Occupation Country</th>\n",
       "      <th>Occupation City</th>\n",
       "      <th>Education Level</th>\n",
       "      <th>Gender</th>\n",
       "      <th>Race</th>\n",
       "      <th>Record Year</th>\n",
       "      <th>Total Annual Salary</th>\n",
       "      <th>Age Group</th>\n",
       "      <th>Experience Level</th>\n",
       "    </tr>\n",
       "  </thead>\n",
       "  <tbody>\n",
       "    <tr>\n",
       "      <th>0</th>\n",
       "      <td>Education (Higher Education)</td>\n",
       "      <td>Research and Instruction Librarian</td>\n",
       "      <td>USD 55000</td>\n",
       "      <td>USD 0</td>\n",
       "      <td>United States</td>\n",
       "      <td>Boston</td>\n",
       "      <td>Master's degree</td>\n",
       "      <td>Female</td>\n",
       "      <td>White</td>\n",
       "      <td>2021</td>\n",
       "      <td>USD 55000</td>\n",
       "      <td>Mid Life</td>\n",
       "      <td>Legendary Level</td>\n",
       "    </tr>\n",
       "    <tr>\n",
       "      <th>1</th>\n",
       "      <td>Computing or Tech</td>\n",
       "      <td>Change &amp; Internal Communications Manager</td>\n",
       "      <td>GBP 54600</td>\n",
       "      <td>GBP 4000</td>\n",
       "      <td>United Kingdom</td>\n",
       "      <td>Cambridge</td>\n",
       "      <td>College degree</td>\n",
       "      <td>Non Binary</td>\n",
       "      <td>White</td>\n",
       "      <td>2021</td>\n",
       "      <td>GBP 58600</td>\n",
       "      <td>Mid Life</td>\n",
       "      <td>Experienced Level</td>\n",
       "    </tr>\n",
       "    <tr>\n",
       "      <th>3</th>\n",
       "      <td>Nonprofits</td>\n",
       "      <td>Program Manager</td>\n",
       "      <td>USD 62000</td>\n",
       "      <td>USD 3000</td>\n",
       "      <td>United States</td>\n",
       "      <td>Milwaukee</td>\n",
       "      <td>College degree</td>\n",
       "      <td>Female</td>\n",
       "      <td>White</td>\n",
       "      <td>2021</td>\n",
       "      <td>USD 65000</td>\n",
       "      <td>Mid Life</td>\n",
       "      <td>Experienced Level</td>\n",
       "    </tr>\n",
       "    <tr>\n",
       "      <th>4</th>\n",
       "      <td>Accounting, Banking &amp; Finance</td>\n",
       "      <td>Accounting Manager</td>\n",
       "      <td>USD 60000</td>\n",
       "      <td>USD 7000</td>\n",
       "      <td>Australia</td>\n",
       "      <td>Greenville</td>\n",
       "      <td>College degree</td>\n",
       "      <td>Female</td>\n",
       "      <td>White</td>\n",
       "      <td>2021</td>\n",
       "      <td>USD 67000</td>\n",
       "      <td>Mid Life</td>\n",
       "      <td>Experienced Level</td>\n",
       "    </tr>\n",
       "    <tr>\n",
       "      <th>6</th>\n",
       "      <td>Publishing</td>\n",
       "      <td>Publishing Assistant</td>\n",
       "      <td>USD 33000</td>\n",
       "      <td>USD 2000</td>\n",
       "      <td>United States</td>\n",
       "      <td>Columbia</td>\n",
       "      <td>College degree</td>\n",
       "      <td>Female</td>\n",
       "      <td>White</td>\n",
       "      <td>2021</td>\n",
       "      <td>USD 35000</td>\n",
       "      <td>Mid Life</td>\n",
       "      <td>Junior Level</td>\n",
       "    </tr>\n",
       "  </tbody>\n",
       "</table>\n",
       "</div>"
      ],
      "text/plain": [
       "                    Job Industry                                 Job Title  \\\n",
       "0   Education (Higher Education)        Research and Instruction Librarian   \n",
       "1              Computing or Tech  Change & Internal Communications Manager   \n",
       "3                     Nonprofits                           Program Manager   \n",
       "4  Accounting, Banking & Finance                        Accounting Manager   \n",
       "6                     Publishing                      Publishing Assistant   \n",
       "\n",
       "  Annual Salary Monetary Compensation Occupation Country Occupation City  \\\n",
       "0     USD 55000                 USD 0      United States          Boston   \n",
       "1     GBP 54600              GBP 4000     United Kingdom       Cambridge   \n",
       "3     USD 62000              USD 3000      United States       Milwaukee   \n",
       "4     USD 60000              USD 7000          Australia      Greenville   \n",
       "6     USD 33000              USD 2000      United States        Columbia   \n",
       "\n",
       "   Education Level      Gender   Race  Record Year Total Annual Salary  \\\n",
       "0  Master's degree      Female  White         2021           USD 55000   \n",
       "1   College degree  Non Binary  White         2021           GBP 58600   \n",
       "3   College degree      Female  White         2021           USD 65000   \n",
       "4   College degree      Female  White         2021           USD 67000   \n",
       "6   College degree      Female  White         2021           USD 35000   \n",
       "\n",
       "  Age Group   Experience Level  \n",
       "0  Mid Life    Legendary Level  \n",
       "1  Mid Life  Experienced Level  \n",
       "3  Mid Life  Experienced Level  \n",
       "4  Mid Life  Experienced Level  \n",
       "6  Mid Life       Junior Level  "
      ]
     },
     "execution_count": 29,
     "metadata": {},
     "output_type": "execute_result"
    }
   ],
   "source": [
    "df.head()"
   ]
  },
  {
   "cell_type": "markdown",
   "id": "30537ea4-07f0-4ada-a0e4-d6d8121617c4",
   "metadata": {},
   "source": [
    "* I will rearrange the columns to ensure a more logical and organized order by adjusting their positions."
   ]
  },
  {
   "cell_type": "code",
   "execution_count": 30,
   "id": "ffb376bb-dc2a-4179-b33b-c9f68f91b375",
   "metadata": {},
   "outputs": [],
   "source": [
    "cols_move=[(\"Record Year\",0),(\"Job Industry\",6),(\"Job Title\",7),(\"Experience Level\",9),(\"Education Level\",8),(\"Gender\",3),(\"Annual Salary\",11),(\"Monetary Compensation\",10),(\"Total Annual Salary\",12),(\"Age Group\",1),(\"Occupation Country\",5),(\"Occupation City\",4),(\"Race\",2)]\n",
    "cols=list(df.columns)\n",
    "for col,position in cols_move:\n",
    "    cols.remove(col)\n",
    "    cols.insert(position,col)\n",
    "df=df[cols]    "
   ]
  },
  {
   "cell_type": "code",
   "execution_count": 31,
   "id": "6946fc3d-5bff-484f-aa69-063f087fc802",
   "metadata": {},
   "outputs": [
    {
     "data": {
      "text/html": [
       "<div>\n",
       "<style scoped>\n",
       "    .dataframe tbody tr th:only-of-type {\n",
       "        vertical-align: middle;\n",
       "    }\n",
       "\n",
       "    .dataframe tbody tr th {\n",
       "        vertical-align: top;\n",
       "    }\n",
       "\n",
       "    .dataframe thead th {\n",
       "        text-align: right;\n",
       "    }\n",
       "</style>\n",
       "<table border=\"1\" class=\"dataframe\">\n",
       "  <thead>\n",
       "    <tr style=\"text-align: right;\">\n",
       "      <th></th>\n",
       "      <th>Record Year</th>\n",
       "      <th>Age Group</th>\n",
       "      <th>Race</th>\n",
       "      <th>Gender</th>\n",
       "      <th>Job Industry</th>\n",
       "      <th>Occupation City</th>\n",
       "      <th>Occupation Country</th>\n",
       "      <th>Job Title</th>\n",
       "      <th>Education Level</th>\n",
       "      <th>Experience Level</th>\n",
       "      <th>Monetary Compensation</th>\n",
       "      <th>Annual Salary</th>\n",
       "      <th>Total Annual Salary</th>\n",
       "    </tr>\n",
       "  </thead>\n",
       "  <tbody>\n",
       "    <tr>\n",
       "      <th>0</th>\n",
       "      <td>2021</td>\n",
       "      <td>Mid Life</td>\n",
       "      <td>White</td>\n",
       "      <td>Female</td>\n",
       "      <td>Education (Higher Education)</td>\n",
       "      <td>Boston</td>\n",
       "      <td>United States</td>\n",
       "      <td>Research and Instruction Librarian</td>\n",
       "      <td>Master's degree</td>\n",
       "      <td>Legendary Level</td>\n",
       "      <td>USD 0</td>\n",
       "      <td>USD 55000</td>\n",
       "      <td>USD 55000</td>\n",
       "    </tr>\n",
       "    <tr>\n",
       "      <th>1</th>\n",
       "      <td>2021</td>\n",
       "      <td>Mid Life</td>\n",
       "      <td>White</td>\n",
       "      <td>Non Binary</td>\n",
       "      <td>Computing or Tech</td>\n",
       "      <td>Cambridge</td>\n",
       "      <td>United Kingdom</td>\n",
       "      <td>Change &amp; Internal Communications Manager</td>\n",
       "      <td>College degree</td>\n",
       "      <td>Experienced Level</td>\n",
       "      <td>GBP 4000</td>\n",
       "      <td>GBP 54600</td>\n",
       "      <td>GBP 58600</td>\n",
       "    </tr>\n",
       "    <tr>\n",
       "      <th>3</th>\n",
       "      <td>2021</td>\n",
       "      <td>Mid Life</td>\n",
       "      <td>White</td>\n",
       "      <td>Female</td>\n",
       "      <td>Nonprofits</td>\n",
       "      <td>Milwaukee</td>\n",
       "      <td>United States</td>\n",
       "      <td>Program Manager</td>\n",
       "      <td>College degree</td>\n",
       "      <td>Experienced Level</td>\n",
       "      <td>USD 3000</td>\n",
       "      <td>USD 62000</td>\n",
       "      <td>USD 65000</td>\n",
       "    </tr>\n",
       "    <tr>\n",
       "      <th>4</th>\n",
       "      <td>2021</td>\n",
       "      <td>Mid Life</td>\n",
       "      <td>White</td>\n",
       "      <td>Female</td>\n",
       "      <td>Accounting, Banking &amp; Finance</td>\n",
       "      <td>Greenville</td>\n",
       "      <td>Australia</td>\n",
       "      <td>Accounting Manager</td>\n",
       "      <td>College degree</td>\n",
       "      <td>Experienced Level</td>\n",
       "      <td>USD 7000</td>\n",
       "      <td>USD 60000</td>\n",
       "      <td>USD 67000</td>\n",
       "    </tr>\n",
       "    <tr>\n",
       "      <th>6</th>\n",
       "      <td>2021</td>\n",
       "      <td>Mid Life</td>\n",
       "      <td>White</td>\n",
       "      <td>Female</td>\n",
       "      <td>Publishing</td>\n",
       "      <td>Columbia</td>\n",
       "      <td>United States</td>\n",
       "      <td>Publishing Assistant</td>\n",
       "      <td>College degree</td>\n",
       "      <td>Junior Level</td>\n",
       "      <td>USD 2000</td>\n",
       "      <td>USD 33000</td>\n",
       "      <td>USD 35000</td>\n",
       "    </tr>\n",
       "  </tbody>\n",
       "</table>\n",
       "</div>"
      ],
      "text/plain": [
       "   Record Year Age Group   Race      Gender                   Job Industry  \\\n",
       "0         2021  Mid Life  White      Female   Education (Higher Education)   \n",
       "1         2021  Mid Life  White  Non Binary              Computing or Tech   \n",
       "3         2021  Mid Life  White      Female                     Nonprofits   \n",
       "4         2021  Mid Life  White      Female  Accounting, Banking & Finance   \n",
       "6         2021  Mid Life  White      Female                     Publishing   \n",
       "\n",
       "  Occupation City Occupation Country  \\\n",
       "0          Boston      United States   \n",
       "1       Cambridge     United Kingdom   \n",
       "3       Milwaukee      United States   \n",
       "4      Greenville          Australia   \n",
       "6        Columbia      United States   \n",
       "\n",
       "                                  Job Title  Education Level  \\\n",
       "0        Research and Instruction Librarian  Master's degree   \n",
       "1  Change & Internal Communications Manager   College degree   \n",
       "3                           Program Manager   College degree   \n",
       "4                        Accounting Manager   College degree   \n",
       "6                      Publishing Assistant   College degree   \n",
       "\n",
       "    Experience Level Monetary Compensation Annual Salary Total Annual Salary  \n",
       "0    Legendary Level                 USD 0     USD 55000           USD 55000  \n",
       "1  Experienced Level              GBP 4000     GBP 54600           GBP 58600  \n",
       "3  Experienced Level              USD 3000     USD 62000           USD 65000  \n",
       "4  Experienced Level              USD 7000     USD 60000           USD 67000  \n",
       "6       Junior Level              USD 2000     USD 33000           USD 35000  "
      ]
     },
     "execution_count": 31,
     "metadata": {},
     "output_type": "execute_result"
    }
   ],
   "source": [
    "df.head()"
   ]
  },
  {
   "cell_type": "markdown",
   "id": "f51c9e55-388c-463f-841b-8f404e0382dc",
   "metadata": {},
   "source": [
    "* Now the dataset is tidy,lets save it"
   ]
  },
  {
   "cell_type": "code",
   "execution_count": 32,
   "id": "92c77e2c-37f6-465d-90cb-3a5eca104b80",
   "metadata": {},
   "outputs": [],
   "source": [
    "df.to_csv(r\"C:\\Users\\danalyst\\Desktop\\Projects\\Data-Cleaning\\Tidy_Salary_Survey.csv\")"
   ]
  }
 ],
 "metadata": {
  "kernelspec": {
   "display_name": "Python 3 (ipykernel)",
   "language": "python",
   "name": "python3"
  },
  "language_info": {
   "codemirror_mode": {
    "name": "ipython",
    "version": 3
   },
   "file_extension": ".py",
   "mimetype": "text/x-python",
   "name": "python",
   "nbconvert_exporter": "python",
   "pygments_lexer": "ipython3",
   "version": "3.12.6"
  }
 },
 "nbformat": 4,
 "nbformat_minor": 5
}
