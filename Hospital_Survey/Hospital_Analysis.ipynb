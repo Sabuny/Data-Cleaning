{
 "cells": [
  {
   "cell_type": "markdown",
   "id": "73ee067c-8061-4f34-ba60-5c7be40f223b",
   "metadata": {},
   "source": [
    "Here’s what you’ll get to analyze:\n",
    "\n",
    "• Patient Demographics: Including gender, age, and race.\n",
    "\n",
    "• ER Operations: Wait times, admission flags, and department referrals.\n",
    "\n",
    "• Satisfaction Metrics: Ratings from patients reflecting their experience.\n",
    "\n",
    "This dataset is rich with possibilities for exploratory analysis, hypothesis testing, and visualization.\n",
    "\n",
    "Why Should You Take on This Challenge?\n",
    "\n",
    "This project will enhance your ability to:\n",
    "\n",
    "1. Spot Trends: Examine patterns in wait times and satisfaction scores.\n",
    "\n",
    "2. Correlate Factors: Discover relationships between demographics, department referrals, and admission rates.\n",
    "\n",
    "3. Sharpen Your Tools: Practice with Excel, Python, SQL, or any tool of your choice.\n",
    "\n",
    "4. Boost Communication: Present actionable insights through clear visualizations and summaries.\n",
    "\n",
    "How to Get Started\n",
    "\n",
    "1. Download the Dataset: Click here to request a copy.\n",
    "\n",
    "2. Load the data into your preferred analysis tool.\n",
    "\n",
    "3. Ask and answer questions like:\n",
    "\n",
    "• How do wait times vary by department and age group?\n",
    "\n",
    "• Are patients with higher wait times less likely to report satisfaction?\n",
    "\n",
    "• Which demographic is most frequently referred to specific departments?"
   ]
  },
  {
   "cell_type": "code",
   "execution_count": 25,
   "id": "b9bfd88d-7d59-429b-b2ae-db9a46518e6a",
   "metadata": {},
   "outputs": [],
   "source": [
    "import pandas as pd\n",
    "import matplotlib.pyplot as plt\n",
    "import numpy as np\n",
    "import seaborn as sns\n",
    "from scipy.stats import skew, kurtosis"
   ]
  },
  {
   "cell_type": "code",
   "execution_count": 2,
   "id": "6d001e50-5401-44b1-b86a-3badfdaf803b",
   "metadata": {},
   "outputs": [],
   "source": [
    "df =pd.read_csv(\"Hospital_Data.csv\")"
   ]
  },
  {
   "cell_type": "code",
   "execution_count": 3,
   "id": "88173eb5-4fda-412e-9ae2-4a6a7f868d12",
   "metadata": {},
   "outputs": [
    {
     "data": {
      "text/html": [
       "<div>\n",
       "<style scoped>\n",
       "    .dataframe tbody tr th:only-of-type {\n",
       "        vertical-align: middle;\n",
       "    }\n",
       "\n",
       "    .dataframe tbody tr th {\n",
       "        vertical-align: top;\n",
       "    }\n",
       "\n",
       "    .dataframe thead th {\n",
       "        text-align: right;\n",
       "    }\n",
       "</style>\n",
       "<table border=\"1\" class=\"dataframe\">\n",
       "  <thead>\n",
       "    <tr style=\"text-align: right;\">\n",
       "      <th></th>\n",
       "      <th>Patient Id</th>\n",
       "      <th>Patient Admission Date</th>\n",
       "      <th>Patient First Inital</th>\n",
       "      <th>Patient Last Name</th>\n",
       "      <th>Patient Gender</th>\n",
       "      <th>Patient Age</th>\n",
       "      <th>Patient Race</th>\n",
       "      <th>Department Referral</th>\n",
       "      <th>Patient Admission Flag</th>\n",
       "      <th>Patient Satisfaction Score</th>\n",
       "      <th>Patient Waittime</th>\n",
       "      <th>Patients CM</th>\n",
       "    </tr>\n",
       "  </thead>\n",
       "  <tbody>\n",
       "    <tr>\n",
       "      <th>0</th>\n",
       "      <td>145-39-5406</td>\n",
       "      <td>20-03-2024 08:47</td>\n",
       "      <td>H</td>\n",
       "      <td>Glasspool</td>\n",
       "      <td>M</td>\n",
       "      <td>69</td>\n",
       "      <td>White</td>\n",
       "      <td>NaN</td>\n",
       "      <td>False</td>\n",
       "      <td>10.0</td>\n",
       "      <td>39</td>\n",
       "      <td>0</td>\n",
       "    </tr>\n",
       "    <tr>\n",
       "      <th>1</th>\n",
       "      <td>316-34-3057</td>\n",
       "      <td>15-06-2024 11:29</td>\n",
       "      <td>X</td>\n",
       "      <td>Methuen</td>\n",
       "      <td>M</td>\n",
       "      <td>4</td>\n",
       "      <td>Native American/Alaska Native</td>\n",
       "      <td>NaN</td>\n",
       "      <td>True</td>\n",
       "      <td>NaN</td>\n",
       "      <td>27</td>\n",
       "      <td>0</td>\n",
       "    </tr>\n",
       "    <tr>\n",
       "      <th>2</th>\n",
       "      <td>897-46-3852</td>\n",
       "      <td>20-06-2024 09:13</td>\n",
       "      <td>P</td>\n",
       "      <td>Schubuser</td>\n",
       "      <td>F</td>\n",
       "      <td>56</td>\n",
       "      <td>African American</td>\n",
       "      <td>General Practice</td>\n",
       "      <td>True</td>\n",
       "      <td>9.0</td>\n",
       "      <td>55</td>\n",
       "      <td>0</td>\n",
       "    </tr>\n",
       "    <tr>\n",
       "      <th>3</th>\n",
       "      <td>358-31-9711</td>\n",
       "      <td>04-02-2024 22:34</td>\n",
       "      <td>U</td>\n",
       "      <td>Titcombe</td>\n",
       "      <td>F</td>\n",
       "      <td>24</td>\n",
       "      <td>Native American/Alaska Native</td>\n",
       "      <td>General Practice</td>\n",
       "      <td>True</td>\n",
       "      <td>8.0</td>\n",
       "      <td>31</td>\n",
       "      <td>0</td>\n",
       "    </tr>\n",
       "    <tr>\n",
       "      <th>4</th>\n",
       "      <td>289-26-0537</td>\n",
       "      <td>04-09-2024 17:48</td>\n",
       "      <td>Y</td>\n",
       "      <td>Gionettitti</td>\n",
       "      <td>M</td>\n",
       "      <td>5</td>\n",
       "      <td>African American</td>\n",
       "      <td>Orthopedics</td>\n",
       "      <td>False</td>\n",
       "      <td>NaN</td>\n",
       "      <td>10</td>\n",
       "      <td>0</td>\n",
       "    </tr>\n",
       "  </tbody>\n",
       "</table>\n",
       "</div>"
      ],
      "text/plain": [
       "    Patient Id Patient Admission Date Patient First Inital Patient Last Name  \\\n",
       "0  145-39-5406       20-03-2024 08:47                    H         Glasspool   \n",
       "1  316-34-3057       15-06-2024 11:29                    X           Methuen   \n",
       "2  897-46-3852       20-06-2024 09:13                    P         Schubuser   \n",
       "3  358-31-9711       04-02-2024 22:34                    U          Titcombe   \n",
       "4  289-26-0537       04-09-2024 17:48                    Y       Gionettitti   \n",
       "\n",
       "  Patient Gender  Patient Age                   Patient Race  \\\n",
       "0              M           69                          White   \n",
       "1              M            4  Native American/Alaska Native   \n",
       "2              F           56               African American   \n",
       "3              F           24  Native American/Alaska Native   \n",
       "4              M            5               African American   \n",
       "\n",
       "  Department Referral  Patient Admission Flag  Patient Satisfaction Score  \\\n",
       "0                 NaN                   False                        10.0   \n",
       "1                 NaN                    True                         NaN   \n",
       "2    General Practice                    True                         9.0   \n",
       "3    General Practice                    True                         8.0   \n",
       "4         Orthopedics                   False                         NaN   \n",
       "\n",
       "   Patient Waittime  Patients CM  \n",
       "0                39            0  \n",
       "1                27            0  \n",
       "2                55            0  \n",
       "3                31            0  \n",
       "4                10            0  "
      ]
     },
     "execution_count": 3,
     "metadata": {},
     "output_type": "execute_result"
    }
   ],
   "source": [
    "df.head()"
   ]
  },
  {
   "cell_type": "code",
   "execution_count": 4,
   "id": "41fe135f-83f7-43f3-8c10-3f0a95a3c75c",
   "metadata": {},
   "outputs": [],
   "source": [
    "df.columns=[\n",
    "    \"Id\",\n",
    "    \"Admission date\",\n",
    "    \"First intial name\",\n",
    "    \"Last name\",\n",
    "    \"Gender\",\n",
    "    \"Age\",\n",
    "    \"Race\",\n",
    "    \"Department referral\",\n",
    "    \"Admission flag\",\n",
    "    \"Satisfaction score\",\n",
    "    \"Waiting time\",\n",
    "    \"Patient CM\"\n",
    "]"
   ]
  },
  {
   "cell_type": "code",
   "execution_count": 5,
   "id": "c2e2d448-a6d8-4394-93ba-ff828c470a08",
   "metadata": {},
   "outputs": [
    {
     "data": {
      "text/html": [
       "<div>\n",
       "<style scoped>\n",
       "    .dataframe tbody tr th:only-of-type {\n",
       "        vertical-align: middle;\n",
       "    }\n",
       "\n",
       "    .dataframe tbody tr th {\n",
       "        vertical-align: top;\n",
       "    }\n",
       "\n",
       "    .dataframe thead th {\n",
       "        text-align: right;\n",
       "    }\n",
       "</style>\n",
       "<table border=\"1\" class=\"dataframe\">\n",
       "  <thead>\n",
       "    <tr style=\"text-align: right;\">\n",
       "      <th></th>\n",
       "      <th>Id</th>\n",
       "      <th>Admission date</th>\n",
       "      <th>First intial name</th>\n",
       "      <th>Last name</th>\n",
       "      <th>Gender</th>\n",
       "      <th>Age</th>\n",
       "      <th>Race</th>\n",
       "      <th>Department referral</th>\n",
       "      <th>Admission flag</th>\n",
       "      <th>Satisfaction score</th>\n",
       "      <th>Waiting time</th>\n",
       "      <th>Patient CM</th>\n",
       "    </tr>\n",
       "  </thead>\n",
       "  <tbody>\n",
       "    <tr>\n",
       "      <th>0</th>\n",
       "      <td>145-39-5406</td>\n",
       "      <td>20-03-2024 08:47</td>\n",
       "      <td>H</td>\n",
       "      <td>Glasspool</td>\n",
       "      <td>M</td>\n",
       "      <td>69</td>\n",
       "      <td>White</td>\n",
       "      <td>NaN</td>\n",
       "      <td>False</td>\n",
       "      <td>10.0</td>\n",
       "      <td>39</td>\n",
       "      <td>0</td>\n",
       "    </tr>\n",
       "    <tr>\n",
       "      <th>1</th>\n",
       "      <td>316-34-3057</td>\n",
       "      <td>15-06-2024 11:29</td>\n",
       "      <td>X</td>\n",
       "      <td>Methuen</td>\n",
       "      <td>M</td>\n",
       "      <td>4</td>\n",
       "      <td>Native American/Alaska Native</td>\n",
       "      <td>NaN</td>\n",
       "      <td>True</td>\n",
       "      <td>NaN</td>\n",
       "      <td>27</td>\n",
       "      <td>0</td>\n",
       "    </tr>\n",
       "    <tr>\n",
       "      <th>2</th>\n",
       "      <td>897-46-3852</td>\n",
       "      <td>20-06-2024 09:13</td>\n",
       "      <td>P</td>\n",
       "      <td>Schubuser</td>\n",
       "      <td>F</td>\n",
       "      <td>56</td>\n",
       "      <td>African American</td>\n",
       "      <td>General Practice</td>\n",
       "      <td>True</td>\n",
       "      <td>9.0</td>\n",
       "      <td>55</td>\n",
       "      <td>0</td>\n",
       "    </tr>\n",
       "    <tr>\n",
       "      <th>3</th>\n",
       "      <td>358-31-9711</td>\n",
       "      <td>04-02-2024 22:34</td>\n",
       "      <td>U</td>\n",
       "      <td>Titcombe</td>\n",
       "      <td>F</td>\n",
       "      <td>24</td>\n",
       "      <td>Native American/Alaska Native</td>\n",
       "      <td>General Practice</td>\n",
       "      <td>True</td>\n",
       "      <td>8.0</td>\n",
       "      <td>31</td>\n",
       "      <td>0</td>\n",
       "    </tr>\n",
       "    <tr>\n",
       "      <th>4</th>\n",
       "      <td>289-26-0537</td>\n",
       "      <td>04-09-2024 17:48</td>\n",
       "      <td>Y</td>\n",
       "      <td>Gionettitti</td>\n",
       "      <td>M</td>\n",
       "      <td>5</td>\n",
       "      <td>African American</td>\n",
       "      <td>Orthopedics</td>\n",
       "      <td>False</td>\n",
       "      <td>NaN</td>\n",
       "      <td>10</td>\n",
       "      <td>0</td>\n",
       "    </tr>\n",
       "  </tbody>\n",
       "</table>\n",
       "</div>"
      ],
      "text/plain": [
       "            Id    Admission date First intial name    Last name Gender  Age  \\\n",
       "0  145-39-5406  20-03-2024 08:47                 H    Glasspool      M   69   \n",
       "1  316-34-3057  15-06-2024 11:29                 X      Methuen      M    4   \n",
       "2  897-46-3852  20-06-2024 09:13                 P    Schubuser      F   56   \n",
       "3  358-31-9711  04-02-2024 22:34                 U     Titcombe      F   24   \n",
       "4  289-26-0537  04-09-2024 17:48                 Y  Gionettitti      M    5   \n",
       "\n",
       "                            Race Department referral  Admission flag  \\\n",
       "0                          White                 NaN           False   \n",
       "1  Native American/Alaska Native                 NaN            True   \n",
       "2               African American    General Practice            True   \n",
       "3  Native American/Alaska Native    General Practice            True   \n",
       "4               African American         Orthopedics           False   \n",
       "\n",
       "   Satisfaction score  Waiting time  Patient CM  \n",
       "0                10.0            39           0  \n",
       "1                 NaN            27           0  \n",
       "2                 9.0            55           0  \n",
       "3                 8.0            31           0  \n",
       "4                 NaN            10           0  "
      ]
     },
     "execution_count": 5,
     "metadata": {},
     "output_type": "execute_result"
    }
   ],
   "source": [
    "df.head()"
   ]
  },
  {
   "cell_type": "code",
   "execution_count": 6,
   "id": "3d512f07-1b61-4d57-88f1-802e32761123",
   "metadata": {},
   "outputs": [
    {
     "data": {
      "text/plain": [
       "Id                        0\n",
       "Admission date            0\n",
       "First intial name         0\n",
       "Last name                 0\n",
       "Gender                    0\n",
       "Age                       0\n",
       "Race                      0\n",
       "Department referral    5400\n",
       "Admission flag            0\n",
       "Satisfaction score     6699\n",
       "Waiting time              0\n",
       "Patient CM                0\n",
       "dtype: int64"
      ]
     },
     "execution_count": 6,
     "metadata": {},
     "output_type": "execute_result"
    }
   ],
   "source": [
    "df.isna().sum()"
   ]
  },
  {
   "cell_type": "code",
   "execution_count": 10,
   "id": "f2e2bff4-5c27-4b4b-b253-bcb3ea6155c3",
   "metadata": {},
   "outputs": [
    {
     "data": {
      "text/plain": [
       "Department referral\n",
       "General Practice    1840\n",
       "Orthopedics          995\n",
       "Physiotherapy        276\n",
       "Cardiology           248\n",
       "Neurology            193\n",
       "Gastroenterology     178\n",
       "Renal                 86\n",
       "Name: count, dtype: int64"
      ]
     },
     "execution_count": 10,
     "metadata": {},
     "output_type": "execute_result"
    }
   ],
   "source": [
    "df[\"Department referral\"].value_counts()"
   ]
  },
  {
   "cell_type": "code",
   "execution_count": 11,
   "id": "b5830e64-9e1d-4d78-8be6-a493b2c62bd0",
   "metadata": {},
   "outputs": [],
   "source": [
    "df[\"Department referral\"] =df[\"Department referral\"].fillna(df[\"Department referral\"].mode()[0])"
   ]
  },
  {
   "cell_type": "code",
   "execution_count": 12,
   "id": "ec2fecfd-976b-4767-a349-d21abd95571a",
   "metadata": {},
   "outputs": [
    {
     "data": {
      "text/plain": [
       "Index(['Id', 'Admission date', 'First intial name', 'Last name', 'Gender',\n",
       "       'Age', 'Race', 'Department referral', 'Admission flag',\n",
       "       'Satisfaction score', 'Waiting time', 'Patient CM'],\n",
       "      dtype='object')"
      ]
     },
     "execution_count": 12,
     "metadata": {},
     "output_type": "execute_result"
    }
   ],
   "source": [
    "df.columns"
   ]
  },
  {
   "cell_type": "code",
   "execution_count": 28,
   "id": "d6e5d2bc-2836-4e6c-b95c-b0d44ea31d3c",
   "metadata": {},
   "outputs": [
    {
     "data": {
      "text/plain": [
       "count    2517.000000\n",
       "mean        4.992054\n",
       "std         3.138043\n",
       "min         0.000000\n",
       "25%         2.000000\n",
       "50%         5.000000\n",
       "75%         8.000000\n",
       "max        10.000000\n",
       "Name: Satisfaction score, dtype: float64"
      ]
     },
     "execution_count": 28,
     "metadata": {},
     "output_type": "execute_result"
    }
   ],
   "source": [
    "df[\"Satisfaction score\"].describe()"
   ]
  },
  {
   "cell_type": "code",
   "execution_count": 31,
   "id": "318d8380-5b59-4865-948e-27a7cf39f888",
   "metadata": {},
   "outputs": [
    {
     "data": {
      "image/png": "[encoded data removed]",
      "text/plain": [
       "<Figure size 640x480 with 1 Axes>"
      ]
     },
     "metadata": {},
     "output_type": "display_data"
    }
   ],
   "source": [
    "sns.histplot(x=df[\"Satisfaction score\"],bins=20)\n",
    "plt.show()"
   ]
  },
  {
   "cell_type": "code",
   "execution_count": 24,
   "id": "5eb57e6f-da71-4b76-9a26-24b76b03ba96",
   "metadata": {},
   "outputs": [
    {
     "data": {
      "text/plain": [
       "Satisfaction score\n",
       "7.0     256\n",
       "4.0     248\n",
       "1.0     246\n",
       "6.0     231\n",
       "3.0     228\n",
       "9.0     222\n",
       "0.0     222\n",
       "10.0    221\n",
       "5.0     221\n",
       "8.0     218\n",
       "2.0     204\n",
       "Name: count, dtype: int64"
      ]
     },
     "execution_count": 24,
     "metadata": {},
     "output_type": "execute_result"
    }
   ],
   "source": [
    "df[\"Satisfaction score\"].value_counts()"
   ]
  },
  {
   "cell_type": "code",
   "execution_count": 34,
   "id": "eab47256-740a-40d9-9b60-28473100ff9b",
   "metadata": {},
   "outputs": [],
   "source": [
    "df[\"Satisfaction score\"]=df[\"Satisfaction score\"].fillna(df[\"Satisfaction score\"].mean())"
   ]
  },
  {
   "cell_type": "code",
   "execution_count": 35,
   "id": "5c539ec9-a67b-4416-bbeb-8c64a0e5cf17",
   "metadata": {},
   "outputs": [],
   "source": [
    "df[\"Satisfaction score\"] =df[\"Satisfaction score\"].astype(int)"
   ]
  },
  {
   "cell_type": "code",
   "execution_count": 36,
   "id": "162e65c3-ca18-4d61-8d88-f50228537c25",
   "metadata": {},
   "outputs": [
    {
     "data": {
      "text/plain": [
       "Id                     0\n",
       "Admission date         0\n",
       "First intial name      0\n",
       "Last name              0\n",
       "Gender                 0\n",
       "Age                    0\n",
       "Race                   0\n",
       "Department referral    0\n",
       "Admission flag         0\n",
       "Satisfaction score     0\n",
       "Waiting time           0\n",
       "Patient CM             0\n",
       "dtype: int64"
      ]
     },
     "execution_count": 36,
     "metadata": {},
     "output_type": "execute_result"
    }
   ],
   "source": [
    "df.isna().sum()"
   ]
  },
  {
   "cell_type": "code",
   "execution_count": 37,
   "id": "48dfe69d-509b-4083-9c66-7433512f754e",
   "metadata": {},
   "outputs": [
    {
     "data": {
      "text/html": [
       "<div>\n",
       "<style scoped>\n",
       "    .dataframe tbody tr th:only-of-type {\n",
       "        vertical-align: middle;\n",
       "    }\n",
       "\n",
       "    .dataframe tbody tr th {\n",
       "        vertical-align: top;\n",
       "    }\n",
       "\n",
       "    .dataframe thead th {\n",
       "        text-align: right;\n",
       "    }\n",
       "</style>\n",
       "<table border=\"1\" class=\"dataframe\">\n",
       "  <thead>\n",
       "    <tr style=\"text-align: right;\">\n",
       "      <th></th>\n",
       "      <th>Id</th>\n",
       "      <th>Admission date</th>\n",
       "      <th>First intial name</th>\n",
       "      <th>Last name</th>\n",
       "      <th>Gender</th>\n",
       "      <th>Age</th>\n",
       "      <th>Race</th>\n",
       "      <th>Department referral</th>\n",
       "      <th>Admission flag</th>\n",
       "      <th>Satisfaction score</th>\n",
       "      <th>Waiting time</th>\n",
       "      <th>Patient CM</th>\n",
       "    </tr>\n",
       "  </thead>\n",
       "  <tbody>\n",
       "    <tr>\n",
       "      <th>0</th>\n",
       "      <td>145-39-5406</td>\n",
       "      <td>20-03-2024 08:47</td>\n",
       "      <td>H</td>\n",
       "      <td>Glasspool</td>\n",
       "      <td>M</td>\n",
       "      <td>69</td>\n",
       "      <td>White</td>\n",
       "      <td>General Practice</td>\n",
       "      <td>False</td>\n",
       "      <td>10</td>\n",
       "      <td>39</td>\n",
       "      <td>0</td>\n",
       "    </tr>\n",
       "    <tr>\n",
       "      <th>1</th>\n",
       "      <td>316-34-3057</td>\n",
       "      <td>15-06-2024 11:29</td>\n",
       "      <td>X</td>\n",
       "      <td>Methuen</td>\n",
       "      <td>M</td>\n",
       "      <td>4</td>\n",
       "      <td>Native American/Alaska Native</td>\n",
       "      <td>General Practice</td>\n",
       "      <td>True</td>\n",
       "      <td>4</td>\n",
       "      <td>27</td>\n",
       "      <td>0</td>\n",
       "    </tr>\n",
       "    <tr>\n",
       "      <th>2</th>\n",
       "      <td>897-46-3852</td>\n",
       "      <td>20-06-2024 09:13</td>\n",
       "      <td>P</td>\n",
       "      <td>Schubuser</td>\n",
       "      <td>F</td>\n",
       "      <td>56</td>\n",
       "      <td>African American</td>\n",
       "      <td>General Practice</td>\n",
       "      <td>True</td>\n",
       "      <td>9</td>\n",
       "      <td>55</td>\n",
       "      <td>0</td>\n",
       "    </tr>\n",
       "    <tr>\n",
       "      <th>3</th>\n",
       "      <td>358-31-9711</td>\n",
       "      <td>04-02-2024 22:34</td>\n",
       "      <td>U</td>\n",
       "      <td>Titcombe</td>\n",
       "      <td>F</td>\n",
       "      <td>24</td>\n",
       "      <td>Native American/Alaska Native</td>\n",
       "      <td>General Practice</td>\n",
       "      <td>True</td>\n",
       "      <td>8</td>\n",
       "      <td>31</td>\n",
       "      <td>0</td>\n",
       "    </tr>\n",
       "    <tr>\n",
       "      <th>4</th>\n",
       "      <td>289-26-0537</td>\n",
       "      <td>04-09-2024 17:48</td>\n",
       "      <td>Y</td>\n",
       "      <td>Gionettitti</td>\n",
       "      <td>M</td>\n",
       "      <td>5</td>\n",
       "      <td>African American</td>\n",
       "      <td>Orthopedics</td>\n",
       "      <td>False</td>\n",
       "      <td>4</td>\n",
       "      <td>10</td>\n",
       "      <td>0</td>\n",
       "    </tr>\n",
       "  </tbody>\n",
       "</table>\n",
       "</div>"
      ],
      "text/plain": [
       "            Id    Admission date First intial name    Last name Gender  Age  \\\n",
       "0  145-39-5406  20-03-2024 08:47                 H    Glasspool      M   69   \n",
       "1  316-34-3057  15-06-2024 11:29                 X      Methuen      M    4   \n",
       "2  897-46-3852  20-06-2024 09:13                 P    Schubuser      F   56   \n",
       "3  358-31-9711  04-02-2024 22:34                 U     Titcombe      F   24   \n",
       "4  289-26-0537  04-09-2024 17:48                 Y  Gionettitti      M    5   \n",
       "\n",
       "                            Race Department referral  Admission flag  \\\n",
       "0                          White    General Practice           False   \n",
       "1  Native American/Alaska Native    General Practice            True   \n",
       "2               African American    General Practice            True   \n",
       "3  Native American/Alaska Native    General Practice            True   \n",
       "4               African American         Orthopedics           False   \n",
       "\n",
       "   Satisfaction score  Waiting time  Patient CM  \n",
       "0                  10            39           0  \n",
       "1                   4            27           0  \n",
       "2                   9            55           0  \n",
       "3                   8            31           0  \n",
       "4                   4            10           0  "
      ]
     },
     "execution_count": 37,
     "metadata": {},
     "output_type": "execute_result"
    }
   ],
   "source": [
    "df.head()"
   ]
  },
  {
   "cell_type": "code",
   "execution_count": 38,
   "id": "ff943afd-08e7-49cc-95f7-8350a5f2b66e",
   "metadata": {},
   "outputs": [
    {
     "data": {
      "text/plain": [
       "Id                     object\n",
       "Admission date         object\n",
       "First intial name      object\n",
       "Last name              object\n",
       "Gender                 object\n",
       "Age                     int64\n",
       "Race                   object\n",
       "Department referral    object\n",
       "Admission flag           bool\n",
       "Satisfaction score      int32\n",
       "Waiting time            int64\n",
       "Patient CM              int64\n",
       "dtype: object"
      ]
     },
     "execution_count": 38,
     "metadata": {},
     "output_type": "execute_result"
    }
   ],
   "source": [
    "df.dtypes"
   ]
  },
  {
   "cell_type": "code",
   "execution_count": 42,
   "id": "decbafc3-227b-4a05-8161-e17a0bf0dd2f",
   "metadata": {},
   "outputs": [],
   "source": [
    "df[\"Admission date\"] =pd.to_datetime(df[\"Admission date\"],format=\"%Y-%m-%d\")"
   ]
  },
  {
   "cell_type": "code",
   "execution_count": 43,
   "id": "f2da73b9-50a4-44ad-a0fa-53d075561b9f",
   "metadata": {},
   "outputs": [
    {
     "data": {
      "text/plain": [
       "Id                             object\n",
       "Admission date         datetime64[ns]\n",
       "First intial name              object\n",
       "Last name                      object\n",
       "Gender                         object\n",
       "Age                             int64\n",
       "Race                           object\n",
       "Department referral            object\n",
       "Admission flag                   bool\n",
       "Satisfaction score              int32\n",
       "Waiting time                    int64\n",
       "Patient CM                      int64\n",
       "dtype: object"
      ]
     },
     "execution_count": 43,
     "metadata": {},
     "output_type": "execute_result"
    }
   ],
   "source": [
    "df.dtypes"
   ]
  },
  {
   "cell_type": "code",
   "execution_count": 44,
   "id": "448cde6d-99b1-43b7-b123-f21668085128",
   "metadata": {},
   "outputs": [
    {
     "data": {
      "text/html": [
       "<div>\n",
       "<style scoped>\n",
       "    .dataframe tbody tr th:only-of-type {\n",
       "        vertical-align: middle;\n",
       "    }\n",
       "\n",
       "    .dataframe tbody tr th {\n",
       "        vertical-align: top;\n",
       "    }\n",
       "\n",
       "    .dataframe thead th {\n",
       "        text-align: right;\n",
       "    }\n",
       "</style>\n",
       "<table border=\"1\" class=\"dataframe\">\n",
       "  <thead>\n",
       "    <tr style=\"text-align: right;\">\n",
       "      <th></th>\n",
       "      <th>Id</th>\n",
       "      <th>Admission date</th>\n",
       "      <th>First intial name</th>\n",
       "      <th>Last name</th>\n",
       "      <th>Gender</th>\n",
       "      <th>Age</th>\n",
       "      <th>Race</th>\n",
       "      <th>Department referral</th>\n",
       "      <th>Admission flag</th>\n",
       "      <th>Satisfaction score</th>\n",
       "      <th>Waiting time</th>\n",
       "      <th>Patient CM</th>\n",
       "    </tr>\n",
       "  </thead>\n",
       "  <tbody>\n",
       "    <tr>\n",
       "      <th>0</th>\n",
       "      <td>145-39-5406</td>\n",
       "      <td>2024-03-20 08:47:00</td>\n",
       "      <td>H</td>\n",
       "      <td>Glasspool</td>\n",
       "      <td>M</td>\n",
       "      <td>69</td>\n",
       "      <td>White</td>\n",
       "      <td>General Practice</td>\n",
       "      <td>False</td>\n",
       "      <td>10</td>\n",
       "      <td>39</td>\n",
       "      <td>0</td>\n",
       "    </tr>\n",
       "    <tr>\n",
       "      <th>1</th>\n",
       "      <td>316-34-3057</td>\n",
       "      <td>2024-06-15 11:29:00</td>\n",
       "      <td>X</td>\n",
       "      <td>Methuen</td>\n",
       "      <td>M</td>\n",
       "      <td>4</td>\n",
       "      <td>Native American/Alaska Native</td>\n",
       "      <td>General Practice</td>\n",
       "      <td>True</td>\n",
       "      <td>4</td>\n",
       "      <td>27</td>\n",
       "      <td>0</td>\n",
       "    </tr>\n",
       "    <tr>\n",
       "      <th>2</th>\n",
       "      <td>897-46-3852</td>\n",
       "      <td>2024-06-20 09:13:00</td>\n",
       "      <td>P</td>\n",
       "      <td>Schubuser</td>\n",
       "      <td>F</td>\n",
       "      <td>56</td>\n",
       "      <td>African American</td>\n",
       "      <td>General Practice</td>\n",
       "      <td>True</td>\n",
       "      <td>9</td>\n",
       "      <td>55</td>\n",
       "      <td>0</td>\n",
       "    </tr>\n",
       "    <tr>\n",
       "      <th>3</th>\n",
       "      <td>358-31-9711</td>\n",
       "      <td>2024-02-04 22:34:00</td>\n",
       "      <td>U</td>\n",
       "      <td>Titcombe</td>\n",
       "      <td>F</td>\n",
       "      <td>24</td>\n",
       "      <td>Native American/Alaska Native</td>\n",
       "      <td>General Practice</td>\n",
       "      <td>True</td>\n",
       "      <td>8</td>\n",
       "      <td>31</td>\n",
       "      <td>0</td>\n",
       "    </tr>\n",
       "    <tr>\n",
       "      <th>4</th>\n",
       "      <td>289-26-0537</td>\n",
       "      <td>2024-09-04 17:48:00</td>\n",
       "      <td>Y</td>\n",
       "      <td>Gionettitti</td>\n",
       "      <td>M</td>\n",
       "      <td>5</td>\n",
       "      <td>African American</td>\n",
       "      <td>Orthopedics</td>\n",
       "      <td>False</td>\n",
       "      <td>4</td>\n",
       "      <td>10</td>\n",
       "      <td>0</td>\n",
       "    </tr>\n",
       "  </tbody>\n",
       "</table>\n",
       "</div>"
      ],
      "text/plain": [
       "            Id      Admission date First intial name    Last name Gender  Age  \\\n",
       "0  145-39-5406 2024-03-20 08:47:00                 H    Glasspool      M   69   \n",
       "1  316-34-3057 2024-06-15 11:29:00                 X      Methuen      M    4   \n",
       "2  897-46-3852 2024-06-20 09:13:00                 P    Schubuser      F   56   \n",
       "3  358-31-9711 2024-02-04 22:34:00                 U     Titcombe      F   24   \n",
       "4  289-26-0537 2024-09-04 17:48:00                 Y  Gionettitti      M    5   \n",
       "\n",
       "                            Race Department referral  Admission flag  \\\n",
       "0                          White    General Practice           False   \n",
       "1  Native American/Alaska Native    General Practice            True   \n",
       "2               African American    General Practice            True   \n",
       "3  Native American/Alaska Native    General Practice            True   \n",
       "4               African American         Orthopedics           False   \n",
       "\n",
       "   Satisfaction score  Waiting time  Patient CM  \n",
       "0                  10            39           0  \n",
       "1                   4            27           0  \n",
       "2                   9            55           0  \n",
       "3                   8            31           0  \n",
       "4                   4            10           0  "
      ]
     },
     "execution_count": 44,
     "metadata": {},
     "output_type": "execute_result"
    }
   ],
   "source": [
    "df.head()"
   ]
  },
  {
   "cell_type": "code",
   "execution_count": 46,
   "id": "2adfa814-6586-47b4-abb9-eb95bdc31aa0",
   "metadata": {},
   "outputs": [
    {
     "data": {
      "text/plain": [
       "count    9216.000000\n",
       "mean       35.259874\n",
       "std        14.735323\n",
       "min        10.000000\n",
       "25%        23.000000\n",
       "50%        35.000000\n",
       "75%        48.000000\n",
       "max        60.000000\n",
       "Name: Waiting time, dtype: float64"
      ]
     },
     "execution_count": 46,
     "metadata": {},
     "output_type": "execute_result"
    }
   ],
   "source": [
    "df[\"Waiting time\"].describe()"
   ]
  },
  {
   "cell_type": "code",
   "execution_count": 49,
   "id": "2305d82d-56a6-4b9b-99d4-7a446f0d9f9c",
   "metadata": {},
   "outputs": [
    {
     "data": {
      "image/png": "[encoded data removed]",
      "text/plain": [
       "<Figure size 640x480 with 1 Axes>"
      ]
     },
     "metadata": {},
     "output_type": "display_data"
    }
   ],
   "source": [
    "sns.histplot(x=df[\"Waiting time\"],bins=40)\n",
    "plt.show()"
   ]
  },
  {
   "cell_type": "markdown",
   "id": "52a320fa-badc-41ec-8ce7-aec29faef713",
   "metadata": {},
   "source": [
    "#### Descriptive statistics"
   ]
  },
  {
   "cell_type": "code",
   "execution_count": 51,
   "id": "dfad5b99-40a0-4906-9fe3-0ea0dbcc239a",
   "metadata": {},
   "outputs": [
    {
     "data": {
      "text/plain": [
       "Index(['Id', 'Admission date', 'First intial name', 'Last name', 'Gender',\n",
       "       'Age', 'Race', 'Department referral', 'Admission flag',\n",
       "       'Satisfaction score', 'Waiting time', 'Patient CM'],\n",
       "      dtype='object')"
      ]
     },
     "execution_count": 51,
     "metadata": {},
     "output_type": "execute_result"
    }
   ],
   "source": [
    "df.columns"
   ]
  },
  {
   "cell_type": "code",
   "execution_count": 52,
   "id": "66c9190d-dcb0-46dd-ad25-a70c0d7fce01",
   "metadata": {},
   "outputs": [
    {
     "data": {
      "text/html": [
       "<div>\n",
       "<style scoped>\n",
       "    .dataframe tbody tr th:only-of-type {\n",
       "        vertical-align: middle;\n",
       "    }\n",
       "\n",
       "    .dataframe tbody tr th {\n",
       "        vertical-align: top;\n",
       "    }\n",
       "\n",
       "    .dataframe thead th {\n",
       "        text-align: right;\n",
       "    }\n",
       "</style>\n",
       "<table border=\"1\" class=\"dataframe\">\n",
       "  <thead>\n",
       "    <tr style=\"text-align: right;\">\n",
       "      <th></th>\n",
       "      <th>Age</th>\n",
       "      <th>Satisfaction score</th>\n",
       "      <th>Waiting time</th>\n",
       "      <th>Patient CM</th>\n",
       "    </tr>\n",
       "  </thead>\n",
       "  <tbody>\n",
       "    <tr>\n",
       "      <th>count</th>\n",
       "      <td>9216.000000</td>\n",
       "      <td>9216.000000</td>\n",
       "      <td>9216.000000</td>\n",
       "      <td>9216.000000</td>\n",
       "    </tr>\n",
       "    <tr>\n",
       "      <th>mean</th>\n",
       "      <td>39.855143</td>\n",
       "      <td>4.270942</td>\n",
       "      <td>35.259874</td>\n",
       "      <td>0.052083</td>\n",
       "    </tr>\n",
       "    <tr>\n",
       "      <th>std</th>\n",
       "      <td>22.755125</td>\n",
       "      <td>1.698247</td>\n",
       "      <td>14.735323</td>\n",
       "      <td>0.222207</td>\n",
       "    </tr>\n",
       "    <tr>\n",
       "      <th>min</th>\n",
       "      <td>1.000000</td>\n",
       "      <td>0.000000</td>\n",
       "      <td>10.000000</td>\n",
       "      <td>0.000000</td>\n",
       "    </tr>\n",
       "    <tr>\n",
       "      <th>25%</th>\n",
       "      <td>20.000000</td>\n",
       "      <td>4.000000</td>\n",
       "      <td>23.000000</td>\n",
       "      <td>0.000000</td>\n",
       "    </tr>\n",
       "    <tr>\n",
       "      <th>50%</th>\n",
       "      <td>39.000000</td>\n",
       "      <td>4.000000</td>\n",
       "      <td>35.000000</td>\n",
       "      <td>0.000000</td>\n",
       "    </tr>\n",
       "    <tr>\n",
       "      <th>75%</th>\n",
       "      <td>60.000000</td>\n",
       "      <td>4.000000</td>\n",
       "      <td>48.000000</td>\n",
       "      <td>0.000000</td>\n",
       "    </tr>\n",
       "    <tr>\n",
       "      <th>max</th>\n",
       "      <td>79.000000</td>\n",
       "      <td>10.000000</td>\n",
       "      <td>60.000000</td>\n",
       "      <td>1.000000</td>\n",
       "    </tr>\n",
       "  </tbody>\n",
       "</table>\n",
       "</div>"
      ],
      "text/plain": [
       "               Age  Satisfaction score  Waiting time   Patient CM\n",
       "count  9216.000000         9216.000000   9216.000000  9216.000000\n",
       "mean     39.855143            4.270942     35.259874     0.052083\n",
       "std      22.755125            1.698247     14.735323     0.222207\n",
       "min       1.000000            0.000000     10.000000     0.000000\n",
       "25%      20.000000            4.000000     23.000000     0.000000\n",
       "50%      39.000000            4.000000     35.000000     0.000000\n",
       "75%      60.000000            4.000000     48.000000     0.000000\n",
       "max      79.000000           10.000000     60.000000     1.000000"
      ]
     },
     "execution_count": 52,
     "metadata": {},
     "output_type": "execute_result"
    }
   ],
   "source": [
    "df[[\"Age\",\"Satisfaction score\",\"Waiting time\",\"Patient CM\"]].describe()"
   ]
  },
  {
   "cell_type": "code",
   "execution_count": 54,
   "id": "74a57f5a-3be6-4bc4-bac1-61b5205263e1",
   "metadata": {},
   "outputs": [
    {
     "data": {
      "text/html": [
       "<div>\n",
       "<style scoped>\n",
       "    .dataframe tbody tr th:only-of-type {\n",
       "        vertical-align: middle;\n",
       "    }\n",
       "\n",
       "    .dataframe tbody tr th {\n",
       "        vertical-align: top;\n",
       "    }\n",
       "\n",
       "    .dataframe thead th {\n",
       "        text-align: right;\n",
       "    }\n",
       "</style>\n",
       "<table border=\"1\" class=\"dataframe\">\n",
       "  <thead>\n",
       "    <tr style=\"text-align: right;\">\n",
       "      <th></th>\n",
       "      <th>Gender</th>\n",
       "      <th>Race</th>\n",
       "      <th>Department referral</th>\n",
       "    </tr>\n",
       "  </thead>\n",
       "  <tbody>\n",
       "    <tr>\n",
       "      <th>count</th>\n",
       "      <td>9216</td>\n",
       "      <td>9216</td>\n",
       "      <td>9216</td>\n",
       "    </tr>\n",
       "    <tr>\n",
       "      <th>unique</th>\n",
       "      <td>3</td>\n",
       "      <td>7</td>\n",
       "      <td>7</td>\n",
       "    </tr>\n",
       "    <tr>\n",
       "      <th>top</th>\n",
       "      <td>M</td>\n",
       "      <td>White</td>\n",
       "      <td>General Practice</td>\n",
       "    </tr>\n",
       "    <tr>\n",
       "      <th>freq</th>\n",
       "      <td>4705</td>\n",
       "      <td>2571</td>\n",
       "      <td>7240</td>\n",
       "    </tr>\n",
       "  </tbody>\n",
       "</table>\n",
       "</div>"
      ],
      "text/plain": [
       "       Gender   Race Department referral\n",
       "count    9216   9216                9216\n",
       "unique      3      7                   7\n",
       "top         M  White    General Practice\n",
       "freq     4705   2571                7240"
      ]
     },
     "execution_count": 54,
     "metadata": {},
     "output_type": "execute_result"
    }
   ],
   "source": [
    "df[[\"Gender\",\"Race\",\"Department referral\"]].describe()"
   ]
  },
  {
   "cell_type": "markdown",
   "id": "6ca9035c-dd2f-47ad-bd8e-5d74a92d569b",
   "metadata": {},
   "source": [
    "#### Demographic Analysis"
   ]
  },
  {
   "cell_type": "code",
   "execution_count": 55,
   "id": "4dc19326-3b4b-4256-890f-72bc24c2edb1",
   "metadata": {},
   "outputs": [
    {
     "data": {
      "text/plain": [
       "Race\n",
       "White                            2571\n",
       "African American                 1951\n",
       "Two or More Races                1557\n",
       "Asian                            1060\n",
       "Declined to Identify             1030\n",
       "Pacific Islander                  549\n",
       "Native American/Alaska Native     498\n",
       "Name: count, dtype: int64"
      ]
     },
     "execution_count": 55,
     "metadata": {},
     "output_type": "execute_result"
    }
   ],
   "source": [
    "df[\"Race\"].value_counts()"
   ]
  },
  {
   "cell_type": "code",
   "execution_count": 56,
   "id": "1e8954f7-b0b1-457c-891d-88e8eddfe406",
   "metadata": {},
   "outputs": [
    {
     "data": {
      "text/plain": [
       "Gender\n",
       "M     4705\n",
       "F     4487\n",
       "NC      24\n",
       "Name: count, dtype: int64"
      ]
     },
     "execution_count": 56,
     "metadata": {},
     "output_type": "execute_result"
    }
   ],
   "source": [
    "df[\"Gender\"].value_counts()"
   ]
  },
  {
   "cell_type": "code",
   "execution_count": 58,
   "id": "9e88a9bb-1a28-4816-b727-9f179f996415",
   "metadata": {},
   "outputs": [
    {
     "data": {
      "image/png": "[encoded data removed]",
      "text/plain": [
       "<Figure size 640x480 with 1 Axes>"
      ]
     },
     "metadata": {},
     "output_type": "display_data"
    }
   ],
   "source": [
    "sns.histplot(df[\"Age\"], bins=30, kde=True)\n",
    "plt.title(\"Age Distribution of Patients\")\n",
    "plt.show()"
   ]
  },
  {
   "cell_type": "markdown",
   "id": "4674ee28-70cd-4e91-a9aa-25c3923f613d",
   "metadata": {},
   "source": [
    "#### Department & Admission Trends"
   ]
  },
  {
   "cell_type": "code",
   "execution_count": 59,
   "id": "1de05123-6064-4eda-b27e-6338fc11d786",
   "metadata": {},
   "outputs": [
    {
     "data": {
      "text/plain": [
       "Department referral\n",
       "General Practice    7240\n",
       "Orthopedics          995\n",
       "Physiotherapy        276\n",
       "Cardiology           248\n",
       "Neurology            193\n",
       "Gastroenterology     178\n",
       "Renal                 86\n",
       "Name: count, dtype: int64"
      ]
     },
     "execution_count": 59,
     "metadata": {},
     "output_type": "execute_result"
    }
   ],
   "source": [
    "df[\"Department referral\"].value_counts()"
   ]
  },
  {
   "cell_type": "markdown",
   "id": "f2dfa068-b58f-4690-8bf3-c08d106a1044",
   "metadata": {},
   "source": [
    "##### Admissions per department"
   ]
  },
  {
   "cell_type": "code",
   "execution_count": 60,
   "id": "de1c6738-12b8-478f-9b8a-12a68589653f",
   "metadata": {},
   "outputs": [
    {
     "data": {
      "text/plain": [
       "Department referral\n",
       "General Practice    3623\n",
       "Orthopedics          498\n",
       "Physiotherapy        137\n",
       "Cardiology           122\n",
       "Neurology             97\n",
       "Gastroenterology      89\n",
       "Renal                 46\n",
       "Name: Admission flag, dtype: int64"
      ]
     },
     "execution_count": 60,
     "metadata": {},
     "output_type": "execute_result"
    }
   ],
   "source": [
    "df.groupby(\"Department referral\")[\"Admission flag\"].sum().sort_values(ascending=False)"
   ]
  },
  {
   "cell_type": "markdown",
   "id": "976a61a1-6d69-4873-8daa-1eccb3671d9d",
   "metadata": {},
   "source": [
    "##### Average age per department"
   ]
  },
  {
   "cell_type": "code",
   "execution_count": 61,
   "id": "72feb01b-96e0-4a92-ad5b-615ff627a3e6",
   "metadata": {},
   "outputs": [
    {
     "data": {
      "text/plain": [
       "Department referral\n",
       "Cardiology          39.713710\n",
       "Gastroenterology    42.303371\n",
       "General Practice    40.064641\n",
       "Neurology           38.010363\n",
       "Orthopedics         38.661307\n",
       "Physiotherapy       39.597826\n",
       "Renal               36.337209\n",
       "Name: Age, dtype: float64"
      ]
     },
     "execution_count": 61,
     "metadata": {},
     "output_type": "execute_result"
    }
   ],
   "source": [
    "df.groupby(\"Department referral\")[\"Age\"].mean()"
   ]
  },
  {
   "cell_type": "markdown",
   "id": "83aa6745-8169-43be-a032-f86aaf83e36e",
   "metadata": {},
   "source": [
    "#### Patient Satisfaction Analysis\n"
   ]
  },
  {
   "cell_type": "code",
   "execution_count": 63,
   "id": "b2d287a6-ddda-4472-b8de-1b0c016b4435",
   "metadata": {},
   "outputs": [
    {
     "data": {
      "image/png": "[encoded data removed]",
      "text/plain": [
       "<Figure size 640x480 with 1 Axes>"
      ]
     },
     "metadata": {},
     "output_type": "display_data"
    }
   ],
   "source": [
    "sns.histplot(df[\"Satisfaction score\"], bins=20, kde=True)\n",
    "plt.title(\"Satisfaction Score Distribution\")\n",
    "plt.show()"
   ]
  },
  {
   "cell_type": "markdown",
   "id": "ff82fc64-6d37-4a9a-9b42-0b008d49630d",
   "metadata": {},
   "source": [
    "##### Satisfaction by department:"
   ]
  },
  {
   "cell_type": "code",
   "execution_count": 64,
   "id": "91f84ccc-fbc1-4b4e-8c89-5d590d5eef96",
   "metadata": {},
   "outputs": [
    {
     "data": {
      "text/plain": [
       "Department referral\n",
       "Gastroenterology    4.544944\n",
       "Neurology           4.352332\n",
       "Cardiology          4.326613\n",
       "Physiotherapy       4.297101\n",
       "General Practice    4.263398\n",
       "Orthopedics         4.250251\n",
       "Renal               4.151163\n",
       "Name: Satisfaction score, dtype: float64"
      ]
     },
     "execution_count": 64,
     "metadata": {},
     "output_type": "execute_result"
    }
   ],
   "source": [
    "df.groupby(\"Department referral\")[\"Satisfaction score\"].mean().sort_values(ascending=False)"
   ]
  },
  {
   "cell_type": "markdown",
   "id": "128f5951-fbee-4cb1-b1e4-56af6276de97",
   "metadata": {},
   "source": [
    "##### Satisfaction by waiting time "
   ]
  },
  {
   "cell_type": "code",
   "execution_count": 67,
   "id": "2e37b7a4-eef6-487c-9cee-bf49abf24f45",
   "metadata": {},
   "outputs": [
    {
     "name": "stdout",
     "output_type": "stream",
     "text": [
      "Correlation: -0.009782842471660724, P-value: 0.34770612255156236\n"
     ]
    }
   ],
   "source": [
    "import scipy.stats as stats\n",
    "\n",
    "correlation, p_value = stats.pearsonr(df[\"Waiting time\"], df[\"Satisfaction score\"])\n",
    "print(f\"Correlation: {correlation}, P-value: {p_value}\")\n"
   ]
  },
  {
   "cell_type": "markdown",
   "id": "6695824c-af97-4db0-bc99-7c927c6a608c",
   "metadata": {},
   "source": [
    "A strong negative correlation means longer waiting times reduce satisfaction."
   ]
  },
  {
   "cell_type": "markdown",
   "id": "dd9236eb-f4f2-4eb6-817d-91bfec8b0d80",
   "metadata": {},
   "source": [
    "#### Waiting Time Analysis"
   ]
  },
  {
   "cell_type": "code",
   "execution_count": 68,
   "id": "60c30b8a-644f-4d24-ad6a-b96e5e33e27f",
   "metadata": {},
   "outputs": [
    {
     "data": {
      "text/plain": [
       "Department referral\n",
       "Renal               34.697674\n",
       "Orthopedics         34.982915\n",
       "General Practice    35.196409\n",
       "Cardiology          35.354839\n",
       "Gastroenterology    35.831461\n",
       "Physiotherapy       36.565217\n",
       "Neurology           36.803109\n",
       "Name: Waiting time, dtype: float64"
      ]
     },
     "execution_count": 68,
     "metadata": {},
     "output_type": "execute_result"
    }
   ],
   "source": [
    "df.groupby(\"Department referral\")[\"Waiting time\"].mean().sort_values()"
   ]
  },
  {
   "cell_type": "code",
   "execution_count": 69,
   "id": "4447343a-c62b-4809-a576-f49d9a34af3b",
   "metadata": {},
   "outputs": [
    {
     "data": {
      "image/png": "[encoded data removed]",
      "text/plain": [
       "<Figure size 640x480 with 1 Axes>"
      ]
     },
     "metadata": {},
     "output_type": "display_data"
    }
   ],
   "source": [
    "sns.boxplot(x=\"Admission flag\", y=\"Waiting time\", data=df)\n",
    "plt.title(\"Waiting Time vs. Admission Status\")\n",
    "plt.show()"
   ]
  },
  {
   "cell_type": "code",
   "execution_count": null,
   "id": "ee18d70b-9ec1-4459-a363-19d83b103009",
   "metadata": {},
   "outputs": [],
   "source": []
  }
 ],
 "metadata": {
  "kernelspec": {
   "display_name": "Python 3 (ipykernel)",
   "language": "python",
   "name": "python3"
  },
  "language_info": {
   "codemirror_mode": {
    "name": "ipython",
    "version": 3
   },
   "file_extension": ".py",
   "mimetype": "text/x-python",
   "name": "python",
   "nbconvert_exporter": "python",
   "pygments_lexer": "ipython3",
   "version": "3.12.2"
  }
 },
 "nbformat": 4,
 "nbformat_minor": 5
}
